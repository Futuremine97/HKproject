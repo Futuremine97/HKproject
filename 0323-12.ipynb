{
 "cells": [
  {
   "cell_type": "code",
   "execution_count": 1,
   "id": "623bcb1c",
   "metadata": {
    "id": "2d05c86e"
   },
   "outputs": [],
   "source": [
    "import pandas as pd\n",
    "import numpy as np\n",
    "from sklearn import datasets\n",
    "import scipy.stats as stats\n",
    "import seaborn as sns\n",
    "import matplotlib.pyplot as plt\n",
    "import tensorflow as tf\n",
    "from tensorflow import keras\n",
    "import numpy as np\n",
    "from sklearn.tree import DecisionTreeClassifier\n",
    "from sklearn.metrics import confusion_matrix\n",
    "from sklearn.metrics import classification_report\n",
    "from sklearn.multioutput import MultiOutputClassifier\n",
    "\n"
   ]
  },
  {
   "cell_type": "code",
   "execution_count": 2,
   "id": "bb154148",
   "metadata": {
    "colab": {
     "base_uri": "https://localhost:8080/"
    },
    "id": "d33fdbd4",
    "outputId": "ccc643b1-273b-4167-985d-8441fee4aaea"
   },
   "outputs": [
    {
     "name": "stdout",
     "output_type": "stream",
     "text": [
      " 16, 19, 23, 27, 34, 36, 40, 44, 41, 46, 48, 51, 56, 58, 58, 62,2\n",
      " 79, 80, 80, 80, 82, 81, 81, 81, 78, 80, 79, 79, 80, 83, 82, 82,0\n",
      "\n",
      " 0, 0, 6, 11, 20, 24, 30, 33, 34, 40, 42, 45, 49, 53, 56, 59,1\n",
      "\n"
     ]
    }
   ],
   "source": [
    "\n",
    "\n",
    "with open(\"jimin1.csv\", 'r', encoding=\"utf-8\") as read_: #read다음에_는 의미가 없다. read랑 헷갈리지말라고 쓴 것. a 라고 해도 무방.\n",
    "    text=read_.readlines()\n",
    "\n",
    "rows=[]\n",
    "for i in text[1:]:\n",
    "    rows.append(list(map(int,i.split(\",\")))) # 이름으로 끝나기 때문에 , 가 없다 그래서 -1로 슬라이싱 해준다.\n",
    "print(i)\n",
    "\n",
    "df=pd.DataFrame(rows)\n",
    "df.columns=[\"sensor%d\"%i for i in range(1,18)]\n",
    "\n",
    "with open(\"seong2.csv\", 'r', encoding=\"utf-8\") as read_:\n",
    "    text2=read_.readlines()\n",
    "    \n",
    "\n",
    "rows2=[]\n",
    "for i in text2[1:]:\n",
    "    rows2.append(list(map(int,i.split(\",\"))))\n",
    "print(i)\n",
    "\n",
    "with open(\"yeon2.csv\", 'r', encoding=\"utf-8\") as read_:\n",
    "    text3=read_.readlines()\n",
    "    \n",
    "rows9=[]\n",
    "for i in text3[1:]:\n",
    "    rows9.append(list(map(int,i.split(\",\"))))\n",
    "print(i)\n",
    "\n",
    "df2=pd.DataFrame(rows2)\n",
    "df2.columns=[\"sensor%d\"%i for i in range(1,18)]\n",
    "\n",
    "\n",
    "df3=pd.DataFrame(rows9)\n",
    "df3.columns=[\"sensor%d\"%i for i in range(1,18)]\n",
    "\n"
   ]
  },
  {
   "cell_type": "code",
   "execution_count": 3,
   "id": "21d82055",
   "metadata": {
    "id": "8c98e4d1",
    "outputId": "1d099e01-fe0f-4e7e-83e5-df41450938fa"
   },
   "outputs": [
    {
     "data": {
      "text/html": [
       "<div>\n",
       "<style scoped>\n",
       "    .dataframe tbody tr th:only-of-type {\n",
       "        vertical-align: middle;\n",
       "    }\n",
       "\n",
       "    .dataframe tbody tr th {\n",
       "        vertical-align: top;\n",
       "    }\n",
       "\n",
       "    .dataframe thead th {\n",
       "        text-align: right;\n",
       "    }\n",
       "</style>\n",
       "<table border=\"1\" class=\"dataframe\">\n",
       "  <thead>\n",
       "    <tr style=\"text-align: right;\">\n",
       "      <th></th>\n",
       "      <th>sensor1</th>\n",
       "      <th>sensor2</th>\n",
       "      <th>sensor3</th>\n",
       "      <th>sensor4</th>\n",
       "      <th>sensor5</th>\n",
       "      <th>sensor6</th>\n",
       "      <th>sensor7</th>\n",
       "      <th>sensor8</th>\n",
       "      <th>sensor9</th>\n",
       "      <th>sensor10</th>\n",
       "      <th>sensor11</th>\n",
       "      <th>sensor12</th>\n",
       "      <th>sensor13</th>\n",
       "      <th>sensor14</th>\n",
       "      <th>sensor15</th>\n",
       "      <th>sensor16</th>\n",
       "      <th>sensor17</th>\n",
       "    </tr>\n",
       "  </thead>\n",
       "  <tbody>\n",
       "    <tr>\n",
       "      <th>0</th>\n",
       "      <td>196</td>\n",
       "      <td>189</td>\n",
       "      <td>182</td>\n",
       "      <td>177</td>\n",
       "      <td>171</td>\n",
       "      <td>165</td>\n",
       "      <td>161</td>\n",
       "      <td>156</td>\n",
       "      <td>149</td>\n",
       "      <td>144</td>\n",
       "      <td>140</td>\n",
       "      <td>135</td>\n",
       "      <td>135</td>\n",
       "      <td>132</td>\n",
       "      <td>128</td>\n",
       "      <td>126</td>\n",
       "      <td>2</td>\n",
       "    </tr>\n",
       "    <tr>\n",
       "      <th>1</th>\n",
       "      <td>98</td>\n",
       "      <td>100</td>\n",
       "      <td>99</td>\n",
       "      <td>101</td>\n",
       "      <td>100</td>\n",
       "      <td>101</td>\n",
       "      <td>101</td>\n",
       "      <td>100</td>\n",
       "      <td>97</td>\n",
       "      <td>97</td>\n",
       "      <td>98</td>\n",
       "      <td>98</td>\n",
       "      <td>101</td>\n",
       "      <td>101</td>\n",
       "      <td>102</td>\n",
       "      <td>102</td>\n",
       "      <td>2</td>\n",
       "    </tr>\n",
       "    <tr>\n",
       "      <th>2</th>\n",
       "      <td>59</td>\n",
       "      <td>64</td>\n",
       "      <td>65</td>\n",
       "      <td>66</td>\n",
       "      <td>69</td>\n",
       "      <td>75</td>\n",
       "      <td>71</td>\n",
       "      <td>74</td>\n",
       "      <td>71</td>\n",
       "      <td>74</td>\n",
       "      <td>75</td>\n",
       "      <td>77</td>\n",
       "      <td>79</td>\n",
       "      <td>79</td>\n",
       "      <td>80</td>\n",
       "      <td>80</td>\n",
       "      <td>2</td>\n",
       "    </tr>\n",
       "    <tr>\n",
       "      <th>3</th>\n",
       "      <td>0</td>\n",
       "      <td>6</td>\n",
       "      <td>12</td>\n",
       "      <td>16</td>\n",
       "      <td>24</td>\n",
       "      <td>28</td>\n",
       "      <td>31</td>\n",
       "      <td>37</td>\n",
       "      <td>36</td>\n",
       "      <td>41</td>\n",
       "      <td>43</td>\n",
       "      <td>48</td>\n",
       "      <td>49</td>\n",
       "      <td>54</td>\n",
       "      <td>56</td>\n",
       "      <td>58</td>\n",
       "      <td>2</td>\n",
       "    </tr>\n",
       "    <tr>\n",
       "      <th>4</th>\n",
       "      <td>213</td>\n",
       "      <td>203</td>\n",
       "      <td>196</td>\n",
       "      <td>188</td>\n",
       "      <td>183</td>\n",
       "      <td>177</td>\n",
       "      <td>169</td>\n",
       "      <td>164</td>\n",
       "      <td>157</td>\n",
       "      <td>151</td>\n",
       "      <td>146</td>\n",
       "      <td>143</td>\n",
       "      <td>141</td>\n",
       "      <td>137</td>\n",
       "      <td>133</td>\n",
       "      <td>130</td>\n",
       "      <td>2</td>\n",
       "    </tr>\n",
       "    <tr>\n",
       "      <th>...</th>\n",
       "      <td>...</td>\n",
       "      <td>...</td>\n",
       "      <td>...</td>\n",
       "      <td>...</td>\n",
       "      <td>...</td>\n",
       "      <td>...</td>\n",
       "      <td>...</td>\n",
       "      <td>...</td>\n",
       "      <td>...</td>\n",
       "      <td>...</td>\n",
       "      <td>...</td>\n",
       "      <td>...</td>\n",
       "      <td>...</td>\n",
       "      <td>...</td>\n",
       "      <td>...</td>\n",
       "      <td>...</td>\n",
       "      <td>...</td>\n",
       "    </tr>\n",
       "    <tr>\n",
       "      <th>261</th>\n",
       "      <td>81</td>\n",
       "      <td>83</td>\n",
       "      <td>81</td>\n",
       "      <td>83</td>\n",
       "      <td>84</td>\n",
       "      <td>87</td>\n",
       "      <td>84</td>\n",
       "      <td>83</td>\n",
       "      <td>83</td>\n",
       "      <td>83</td>\n",
       "      <td>85</td>\n",
       "      <td>82</td>\n",
       "      <td>88</td>\n",
       "      <td>86</td>\n",
       "      <td>87</td>\n",
       "      <td>85</td>\n",
       "      <td>2</td>\n",
       "    </tr>\n",
       "    <tr>\n",
       "      <th>262</th>\n",
       "      <td>74</td>\n",
       "      <td>77</td>\n",
       "      <td>78</td>\n",
       "      <td>79</td>\n",
       "      <td>80</td>\n",
       "      <td>82</td>\n",
       "      <td>84</td>\n",
       "      <td>84</td>\n",
       "      <td>82</td>\n",
       "      <td>87</td>\n",
       "      <td>84</td>\n",
       "      <td>86</td>\n",
       "      <td>85</td>\n",
       "      <td>88</td>\n",
       "      <td>88</td>\n",
       "      <td>86</td>\n",
       "      <td>2</td>\n",
       "    </tr>\n",
       "    <tr>\n",
       "      <th>263</th>\n",
       "      <td>31</td>\n",
       "      <td>36</td>\n",
       "      <td>39</td>\n",
       "      <td>44</td>\n",
       "      <td>49</td>\n",
       "      <td>54</td>\n",
       "      <td>57</td>\n",
       "      <td>58</td>\n",
       "      <td>59</td>\n",
       "      <td>61</td>\n",
       "      <td>64</td>\n",
       "      <td>68</td>\n",
       "      <td>72</td>\n",
       "      <td>71</td>\n",
       "      <td>73</td>\n",
       "      <td>76</td>\n",
       "      <td>2</td>\n",
       "    </tr>\n",
       "    <tr>\n",
       "      <th>264</th>\n",
       "      <td>13</td>\n",
       "      <td>19</td>\n",
       "      <td>27</td>\n",
       "      <td>24</td>\n",
       "      <td>34</td>\n",
       "      <td>39</td>\n",
       "      <td>43</td>\n",
       "      <td>48</td>\n",
       "      <td>48</td>\n",
       "      <td>51</td>\n",
       "      <td>53</td>\n",
       "      <td>56</td>\n",
       "      <td>61</td>\n",
       "      <td>64</td>\n",
       "      <td>65</td>\n",
       "      <td>67</td>\n",
       "      <td>2</td>\n",
       "    </tr>\n",
       "    <tr>\n",
       "      <th>265</th>\n",
       "      <td>16</td>\n",
       "      <td>19</td>\n",
       "      <td>23</td>\n",
       "      <td>27</td>\n",
       "      <td>34</td>\n",
       "      <td>36</td>\n",
       "      <td>40</td>\n",
       "      <td>44</td>\n",
       "      <td>41</td>\n",
       "      <td>46</td>\n",
       "      <td>48</td>\n",
       "      <td>51</td>\n",
       "      <td>56</td>\n",
       "      <td>58</td>\n",
       "      <td>58</td>\n",
       "      <td>62</td>\n",
       "      <td>2</td>\n",
       "    </tr>\n",
       "  </tbody>\n",
       "</table>\n",
       "<p>266 rows × 17 columns</p>\n",
       "</div>"
      ],
      "text/plain": [
       "     sensor1  sensor2  sensor3  sensor4  sensor5  sensor6  sensor7  sensor8  \\\n",
       "0        196      189      182      177      171      165      161      156   \n",
       "1         98      100       99      101      100      101      101      100   \n",
       "2         59       64       65       66       69       75       71       74   \n",
       "3          0        6       12       16       24       28       31       37   \n",
       "4        213      203      196      188      183      177      169      164   \n",
       "..       ...      ...      ...      ...      ...      ...      ...      ...   \n",
       "261       81       83       81       83       84       87       84       83   \n",
       "262       74       77       78       79       80       82       84       84   \n",
       "263       31       36       39       44       49       54       57       58   \n",
       "264       13       19       27       24       34       39       43       48   \n",
       "265       16       19       23       27       34       36       40       44   \n",
       "\n",
       "     sensor9  sensor10  sensor11  sensor12  sensor13  sensor14  sensor15  \\\n",
       "0        149       144       140       135       135       132       128   \n",
       "1         97        97        98        98       101       101       102   \n",
       "2         71        74        75        77        79        79        80   \n",
       "3         36        41        43        48        49        54        56   \n",
       "4        157       151       146       143       141       137       133   \n",
       "..       ...       ...       ...       ...       ...       ...       ...   \n",
       "261       83        83        85        82        88        86        87   \n",
       "262       82        87        84        86        85        88        88   \n",
       "263       59        61        64        68        72        71        73   \n",
       "264       48        51        53        56        61        64        65   \n",
       "265       41        46        48        51        56        58        58   \n",
       "\n",
       "     sensor16  sensor17  \n",
       "0         126         2  \n",
       "1         102         2  \n",
       "2          80         2  \n",
       "3          58         2  \n",
       "4         130         2  \n",
       "..        ...       ...  \n",
       "261        85         2  \n",
       "262        86         2  \n",
       "263        76         2  \n",
       "264        67         2  \n",
       "265        62         2  \n",
       "\n",
       "[266 rows x 17 columns]"
      ]
     },
     "execution_count": 3,
     "metadata": {},
     "output_type": "execute_result"
    }
   ],
   "source": [
    "df"
   ]
  },
  {
   "cell_type": "code",
   "execution_count": 4,
   "id": "c075c9c2",
   "metadata": {
    "id": "9e9dd230"
   },
   "outputs": [],
   "source": [
    "df = df.iloc[:255,]"
   ]
  },
  {
   "cell_type": "code",
   "execution_count": 5,
   "id": "3362d9fb",
   "metadata": {
    "id": "4f1e0ff7"
   },
   "outputs": [],
   "source": [
    "# 20 행마다 잘라서 여러개의 데이터 셋 으로 만들기"
   ]
  },
  {
   "cell_type": "code",
   "execution_count": 6,
   "id": "6d0b3a45",
   "metadata": {
    "colab": {
     "base_uri": "https://localhost:8080/",
     "height": 487
    },
    "id": "d4c0d133",
    "outputId": "936bc0de-8684-447f-f358-0d1f7dbc4ff1"
   },
   "outputs": [
    {
     "data": {
      "text/html": [
       "<div>\n",
       "<style scoped>\n",
       "    .dataframe tbody tr th:only-of-type {\n",
       "        vertical-align: middle;\n",
       "    }\n",
       "\n",
       "    .dataframe tbody tr th {\n",
       "        vertical-align: top;\n",
       "    }\n",
       "\n",
       "    .dataframe thead th {\n",
       "        text-align: right;\n",
       "    }\n",
       "</style>\n",
       "<table border=\"1\" class=\"dataframe\">\n",
       "  <thead>\n",
       "    <tr style=\"text-align: right;\">\n",
       "      <th></th>\n",
       "      <th>sensor1</th>\n",
       "      <th>sensor2</th>\n",
       "      <th>sensor3</th>\n",
       "      <th>sensor4</th>\n",
       "      <th>sensor5</th>\n",
       "      <th>sensor6</th>\n",
       "      <th>sensor7</th>\n",
       "      <th>sensor8</th>\n",
       "      <th>sensor9</th>\n",
       "      <th>sensor10</th>\n",
       "      <th>sensor11</th>\n",
       "      <th>sensor12</th>\n",
       "      <th>sensor13</th>\n",
       "      <th>sensor14</th>\n",
       "      <th>sensor15</th>\n",
       "      <th>sensor16</th>\n",
       "      <th>sensor17</th>\n",
       "    </tr>\n",
       "  </thead>\n",
       "  <tbody>\n",
       "    <tr>\n",
       "      <th>0</th>\n",
       "      <td>0</td>\n",
       "      <td>5</td>\n",
       "      <td>12</td>\n",
       "      <td>17</td>\n",
       "      <td>24</td>\n",
       "      <td>32</td>\n",
       "      <td>33</td>\n",
       "      <td>41</td>\n",
       "      <td>35</td>\n",
       "      <td>43</td>\n",
       "      <td>46</td>\n",
       "      <td>49</td>\n",
       "      <td>52</td>\n",
       "      <td>55</td>\n",
       "      <td>56</td>\n",
       "      <td>57</td>\n",
       "      <td>0</td>\n",
       "    </tr>\n",
       "    <tr>\n",
       "      <th>1</th>\n",
       "      <td>75</td>\n",
       "      <td>76</td>\n",
       "      <td>77</td>\n",
       "      <td>78</td>\n",
       "      <td>83</td>\n",
       "      <td>83</td>\n",
       "      <td>82</td>\n",
       "      <td>84</td>\n",
       "      <td>82</td>\n",
       "      <td>81</td>\n",
       "      <td>82</td>\n",
       "      <td>82</td>\n",
       "      <td>83</td>\n",
       "      <td>84</td>\n",
       "      <td>84</td>\n",
       "      <td>85</td>\n",
       "      <td>0</td>\n",
       "    </tr>\n",
       "    <tr>\n",
       "      <th>2</th>\n",
       "      <td>80</td>\n",
       "      <td>84</td>\n",
       "      <td>82</td>\n",
       "      <td>83</td>\n",
       "      <td>85</td>\n",
       "      <td>85</td>\n",
       "      <td>84</td>\n",
       "      <td>85</td>\n",
       "      <td>81</td>\n",
       "      <td>83</td>\n",
       "      <td>84</td>\n",
       "      <td>83</td>\n",
       "      <td>87</td>\n",
       "      <td>87</td>\n",
       "      <td>87</td>\n",
       "      <td>87</td>\n",
       "      <td>0</td>\n",
       "    </tr>\n",
       "    <tr>\n",
       "      <th>3</th>\n",
       "      <td>747</td>\n",
       "      <td>699</td>\n",
       "      <td>657</td>\n",
       "      <td>617</td>\n",
       "      <td>583</td>\n",
       "      <td>550</td>\n",
       "      <td>517</td>\n",
       "      <td>491</td>\n",
       "      <td>460</td>\n",
       "      <td>438</td>\n",
       "      <td>410</td>\n",
       "      <td>390</td>\n",
       "      <td>371</td>\n",
       "      <td>353</td>\n",
       "      <td>338</td>\n",
       "      <td>322</td>\n",
       "      <td>0</td>\n",
       "    </tr>\n",
       "    <tr>\n",
       "      <th>4</th>\n",
       "      <td>450</td>\n",
       "      <td>423</td>\n",
       "      <td>398</td>\n",
       "      <td>377</td>\n",
       "      <td>358</td>\n",
       "      <td>340</td>\n",
       "      <td>322</td>\n",
       "      <td>305</td>\n",
       "      <td>287</td>\n",
       "      <td>275</td>\n",
       "      <td>262</td>\n",
       "      <td>250</td>\n",
       "      <td>241</td>\n",
       "      <td>232</td>\n",
       "      <td>221</td>\n",
       "      <td>214</td>\n",
       "      <td>0</td>\n",
       "    </tr>\n",
       "    <tr>\n",
       "      <th>...</th>\n",
       "      <td>...</td>\n",
       "      <td>...</td>\n",
       "      <td>...</td>\n",
       "      <td>...</td>\n",
       "      <td>...</td>\n",
       "      <td>...</td>\n",
       "      <td>...</td>\n",
       "      <td>...</td>\n",
       "      <td>...</td>\n",
       "      <td>...</td>\n",
       "      <td>...</td>\n",
       "      <td>...</td>\n",
       "      <td>...</td>\n",
       "      <td>...</td>\n",
       "      <td>...</td>\n",
       "      <td>...</td>\n",
       "      <td>...</td>\n",
       "    </tr>\n",
       "    <tr>\n",
       "      <th>250</th>\n",
       "      <td>69</td>\n",
       "      <td>72</td>\n",
       "      <td>74</td>\n",
       "      <td>79</td>\n",
       "      <td>77</td>\n",
       "      <td>82</td>\n",
       "      <td>81</td>\n",
       "      <td>81</td>\n",
       "      <td>78</td>\n",
       "      <td>79</td>\n",
       "      <td>82</td>\n",
       "      <td>81</td>\n",
       "      <td>85</td>\n",
       "      <td>90</td>\n",
       "      <td>86</td>\n",
       "      <td>89</td>\n",
       "      <td>0</td>\n",
       "    </tr>\n",
       "    <tr>\n",
       "      <th>251</th>\n",
       "      <td>49</td>\n",
       "      <td>50</td>\n",
       "      <td>53</td>\n",
       "      <td>55</td>\n",
       "      <td>59</td>\n",
       "      <td>62</td>\n",
       "      <td>66</td>\n",
       "      <td>67</td>\n",
       "      <td>66</td>\n",
       "      <td>66</td>\n",
       "      <td>69</td>\n",
       "      <td>71</td>\n",
       "      <td>74</td>\n",
       "      <td>74</td>\n",
       "      <td>76</td>\n",
       "      <td>77</td>\n",
       "      <td>0</td>\n",
       "    </tr>\n",
       "    <tr>\n",
       "      <th>252</th>\n",
       "      <td>151</td>\n",
       "      <td>143</td>\n",
       "      <td>142</td>\n",
       "      <td>138</td>\n",
       "      <td>136</td>\n",
       "      <td>131</td>\n",
       "      <td>128</td>\n",
       "      <td>125</td>\n",
       "      <td>117</td>\n",
       "      <td>116</td>\n",
       "      <td>112</td>\n",
       "      <td>112</td>\n",
       "      <td>111</td>\n",
       "      <td>109</td>\n",
       "      <td>107</td>\n",
       "      <td>107</td>\n",
       "      <td>0</td>\n",
       "    </tr>\n",
       "    <tr>\n",
       "      <th>253</th>\n",
       "      <td>176</td>\n",
       "      <td>170</td>\n",
       "      <td>165</td>\n",
       "      <td>161</td>\n",
       "      <td>154</td>\n",
       "      <td>151</td>\n",
       "      <td>146</td>\n",
       "      <td>142</td>\n",
       "      <td>134</td>\n",
       "      <td>133</td>\n",
       "      <td>127</td>\n",
       "      <td>126</td>\n",
       "      <td>124</td>\n",
       "      <td>121</td>\n",
       "      <td>116</td>\n",
       "      <td>113</td>\n",
       "      <td>0</td>\n",
       "    </tr>\n",
       "    <tr>\n",
       "      <th>254</th>\n",
       "      <td>99</td>\n",
       "      <td>97</td>\n",
       "      <td>96</td>\n",
       "      <td>96</td>\n",
       "      <td>98</td>\n",
       "      <td>97</td>\n",
       "      <td>96</td>\n",
       "      <td>96</td>\n",
       "      <td>92</td>\n",
       "      <td>91</td>\n",
       "      <td>91</td>\n",
       "      <td>90</td>\n",
       "      <td>93</td>\n",
       "      <td>92</td>\n",
       "      <td>92</td>\n",
       "      <td>90</td>\n",
       "      <td>0</td>\n",
       "    </tr>\n",
       "  </tbody>\n",
       "</table>\n",
       "<p>255 rows × 17 columns</p>\n",
       "</div>"
      ],
      "text/plain": [
       "     sensor1  sensor2  sensor3  sensor4  sensor5  sensor6  sensor7  sensor8  \\\n",
       "0          0        5       12       17       24       32       33       41   \n",
       "1         75       76       77       78       83       83       82       84   \n",
       "2         80       84       82       83       85       85       84       85   \n",
       "3        747      699      657      617      583      550      517      491   \n",
       "4        450      423      398      377      358      340      322      305   \n",
       "..       ...      ...      ...      ...      ...      ...      ...      ...   \n",
       "250       69       72       74       79       77       82       81       81   \n",
       "251       49       50       53       55       59       62       66       67   \n",
       "252      151      143      142      138      136      131      128      125   \n",
       "253      176      170      165      161      154      151      146      142   \n",
       "254       99       97       96       96       98       97       96       96   \n",
       "\n",
       "     sensor9  sensor10  sensor11  sensor12  sensor13  sensor14  sensor15  \\\n",
       "0         35        43        46        49        52        55        56   \n",
       "1         82        81        82        82        83        84        84   \n",
       "2         81        83        84        83        87        87        87   \n",
       "3        460       438       410       390       371       353       338   \n",
       "4        287       275       262       250       241       232       221   \n",
       "..       ...       ...       ...       ...       ...       ...       ...   \n",
       "250       78        79        82        81        85        90        86   \n",
       "251       66        66        69        71        74        74        76   \n",
       "252      117       116       112       112       111       109       107   \n",
       "253      134       133       127       126       124       121       116   \n",
       "254       92        91        91        90        93        92        92   \n",
       "\n",
       "     sensor16  sensor17  \n",
       "0          57         0  \n",
       "1          85         0  \n",
       "2          87         0  \n",
       "3         322         0  \n",
       "4         214         0  \n",
       "..        ...       ...  \n",
       "250        89         0  \n",
       "251        77         0  \n",
       "252       107         0  \n",
       "253       113         0  \n",
       "254        90         0  \n",
       "\n",
       "[255 rows x 17 columns]"
      ]
     },
     "execution_count": 6,
     "metadata": {},
     "output_type": "execute_result"
    }
   ],
   "source": [
    "df2 = df2.iloc[:255,]\n",
    "df2"
   ]
  },
  {
   "cell_type": "code",
   "execution_count": 7,
   "id": "982ff07b",
   "metadata": {
    "colab": {
     "base_uri": "https://localhost:8080/",
     "height": 487
    },
    "id": "bbd177b4",
    "outputId": "a03dcc2a-8980-428c-bfc2-f25220df18d7"
   },
   "outputs": [
    {
     "data": {
      "text/html": [
       "<div>\n",
       "<style scoped>\n",
       "    .dataframe tbody tr th:only-of-type {\n",
       "        vertical-align: middle;\n",
       "    }\n",
       "\n",
       "    .dataframe tbody tr th {\n",
       "        vertical-align: top;\n",
       "    }\n",
       "\n",
       "    .dataframe thead th {\n",
       "        text-align: right;\n",
       "    }\n",
       "</style>\n",
       "<table border=\"1\" class=\"dataframe\">\n",
       "  <thead>\n",
       "    <tr style=\"text-align: right;\">\n",
       "      <th></th>\n",
       "      <th>sensor1</th>\n",
       "      <th>sensor2</th>\n",
       "      <th>sensor3</th>\n",
       "      <th>sensor4</th>\n",
       "      <th>sensor5</th>\n",
       "      <th>sensor6</th>\n",
       "      <th>sensor7</th>\n",
       "      <th>sensor8</th>\n",
       "      <th>sensor9</th>\n",
       "      <th>sensor10</th>\n",
       "      <th>sensor11</th>\n",
       "      <th>sensor12</th>\n",
       "      <th>sensor13</th>\n",
       "      <th>sensor14</th>\n",
       "      <th>sensor15</th>\n",
       "      <th>sensor16</th>\n",
       "      <th>sensor17</th>\n",
       "    </tr>\n",
       "  </thead>\n",
       "  <tbody>\n",
       "    <tr>\n",
       "      <th>0</th>\n",
       "      <td>58</td>\n",
       "      <td>60</td>\n",
       "      <td>62</td>\n",
       "      <td>64</td>\n",
       "      <td>66</td>\n",
       "      <td>68</td>\n",
       "      <td>71</td>\n",
       "      <td>71</td>\n",
       "      <td>68</td>\n",
       "      <td>70</td>\n",
       "      <td>72</td>\n",
       "      <td>72</td>\n",
       "      <td>76</td>\n",
       "      <td>76</td>\n",
       "      <td>77</td>\n",
       "      <td>78</td>\n",
       "      <td>1</td>\n",
       "    </tr>\n",
       "    <tr>\n",
       "      <th>1</th>\n",
       "      <td>100</td>\n",
       "      <td>99</td>\n",
       "      <td>97</td>\n",
       "      <td>99</td>\n",
       "      <td>100</td>\n",
       "      <td>99</td>\n",
       "      <td>98</td>\n",
       "      <td>103</td>\n",
       "      <td>93</td>\n",
       "      <td>94</td>\n",
       "      <td>92</td>\n",
       "      <td>91</td>\n",
       "      <td>92</td>\n",
       "      <td>92</td>\n",
       "      <td>92</td>\n",
       "      <td>92</td>\n",
       "      <td>1</td>\n",
       "    </tr>\n",
       "    <tr>\n",
       "      <th>2</th>\n",
       "      <td>62</td>\n",
       "      <td>63</td>\n",
       "      <td>67</td>\n",
       "      <td>67</td>\n",
       "      <td>71</td>\n",
       "      <td>72</td>\n",
       "      <td>73</td>\n",
       "      <td>74</td>\n",
       "      <td>73</td>\n",
       "      <td>75</td>\n",
       "      <td>76</td>\n",
       "      <td>77</td>\n",
       "      <td>80</td>\n",
       "      <td>80</td>\n",
       "      <td>79</td>\n",
       "      <td>81</td>\n",
       "      <td>1</td>\n",
       "    </tr>\n",
       "    <tr>\n",
       "      <th>3</th>\n",
       "      <td>76</td>\n",
       "      <td>76</td>\n",
       "      <td>78</td>\n",
       "      <td>78</td>\n",
       "      <td>82</td>\n",
       "      <td>82</td>\n",
       "      <td>76</td>\n",
       "      <td>83</td>\n",
       "      <td>75</td>\n",
       "      <td>81</td>\n",
       "      <td>82</td>\n",
       "      <td>82</td>\n",
       "      <td>84</td>\n",
       "      <td>84</td>\n",
       "      <td>84</td>\n",
       "      <td>85</td>\n",
       "      <td>1</td>\n",
       "    </tr>\n",
       "    <tr>\n",
       "      <th>4</th>\n",
       "      <td>55</td>\n",
       "      <td>59</td>\n",
       "      <td>61</td>\n",
       "      <td>67</td>\n",
       "      <td>66</td>\n",
       "      <td>68</td>\n",
       "      <td>70</td>\n",
       "      <td>72</td>\n",
       "      <td>70</td>\n",
       "      <td>72</td>\n",
       "      <td>73</td>\n",
       "      <td>74</td>\n",
       "      <td>76</td>\n",
       "      <td>78</td>\n",
       "      <td>79</td>\n",
       "      <td>78</td>\n",
       "      <td>1</td>\n",
       "    </tr>\n",
       "    <tr>\n",
       "      <th>...</th>\n",
       "      <td>...</td>\n",
       "      <td>...</td>\n",
       "      <td>...</td>\n",
       "      <td>...</td>\n",
       "      <td>...</td>\n",
       "      <td>...</td>\n",
       "      <td>...</td>\n",
       "      <td>...</td>\n",
       "      <td>...</td>\n",
       "      <td>...</td>\n",
       "      <td>...</td>\n",
       "      <td>...</td>\n",
       "      <td>...</td>\n",
       "      <td>...</td>\n",
       "      <td>...</td>\n",
       "      <td>...</td>\n",
       "      <td>...</td>\n",
       "    </tr>\n",
       "    <tr>\n",
       "      <th>250</th>\n",
       "      <td>102</td>\n",
       "      <td>102</td>\n",
       "      <td>103</td>\n",
       "      <td>100</td>\n",
       "      <td>103</td>\n",
       "      <td>100</td>\n",
       "      <td>97</td>\n",
       "      <td>98</td>\n",
       "      <td>94</td>\n",
       "      <td>93</td>\n",
       "      <td>93</td>\n",
       "      <td>92</td>\n",
       "      <td>94</td>\n",
       "      <td>96</td>\n",
       "      <td>92</td>\n",
       "      <td>96</td>\n",
       "      <td>1</td>\n",
       "    </tr>\n",
       "    <tr>\n",
       "      <th>251</th>\n",
       "      <td>104</td>\n",
       "      <td>105</td>\n",
       "      <td>103</td>\n",
       "      <td>103</td>\n",
       "      <td>104</td>\n",
       "      <td>103</td>\n",
       "      <td>101</td>\n",
       "      <td>103</td>\n",
       "      <td>99</td>\n",
       "      <td>97</td>\n",
       "      <td>97</td>\n",
       "      <td>97</td>\n",
       "      <td>97</td>\n",
       "      <td>97</td>\n",
       "      <td>97</td>\n",
       "      <td>96</td>\n",
       "      <td>1</td>\n",
       "    </tr>\n",
       "    <tr>\n",
       "      <th>252</th>\n",
       "      <td>117</td>\n",
       "      <td>115</td>\n",
       "      <td>111</td>\n",
       "      <td>111</td>\n",
       "      <td>111</td>\n",
       "      <td>110</td>\n",
       "      <td>107</td>\n",
       "      <td>105</td>\n",
       "      <td>102</td>\n",
       "      <td>102</td>\n",
       "      <td>101</td>\n",
       "      <td>100</td>\n",
       "      <td>99</td>\n",
       "      <td>98</td>\n",
       "      <td>101</td>\n",
       "      <td>98</td>\n",
       "      <td>1</td>\n",
       "    </tr>\n",
       "    <tr>\n",
       "      <th>253</th>\n",
       "      <td>122</td>\n",
       "      <td>120</td>\n",
       "      <td>118</td>\n",
       "      <td>116</td>\n",
       "      <td>117</td>\n",
       "      <td>114</td>\n",
       "      <td>112</td>\n",
       "      <td>111</td>\n",
       "      <td>106</td>\n",
       "      <td>106</td>\n",
       "      <td>103</td>\n",
       "      <td>103</td>\n",
       "      <td>103</td>\n",
       "      <td>102</td>\n",
       "      <td>101</td>\n",
       "      <td>102</td>\n",
       "      <td>1</td>\n",
       "    </tr>\n",
       "    <tr>\n",
       "      <th>254</th>\n",
       "      <td>43</td>\n",
       "      <td>46</td>\n",
       "      <td>50</td>\n",
       "      <td>53</td>\n",
       "      <td>56</td>\n",
       "      <td>56</td>\n",
       "      <td>58</td>\n",
       "      <td>61</td>\n",
       "      <td>62</td>\n",
       "      <td>60</td>\n",
       "      <td>63</td>\n",
       "      <td>61</td>\n",
       "      <td>71</td>\n",
       "      <td>67</td>\n",
       "      <td>70</td>\n",
       "      <td>71</td>\n",
       "      <td>1</td>\n",
       "    </tr>\n",
       "  </tbody>\n",
       "</table>\n",
       "<p>255 rows × 17 columns</p>\n",
       "</div>"
      ],
      "text/plain": [
       "     sensor1  sensor2  sensor3  sensor4  sensor5  sensor6  sensor7  sensor8  \\\n",
       "0         58       60       62       64       66       68       71       71   \n",
       "1        100       99       97       99      100       99       98      103   \n",
       "2         62       63       67       67       71       72       73       74   \n",
       "3         76       76       78       78       82       82       76       83   \n",
       "4         55       59       61       67       66       68       70       72   \n",
       "..       ...      ...      ...      ...      ...      ...      ...      ...   \n",
       "250      102      102      103      100      103      100       97       98   \n",
       "251      104      105      103      103      104      103      101      103   \n",
       "252      117      115      111      111      111      110      107      105   \n",
       "253      122      120      118      116      117      114      112      111   \n",
       "254       43       46       50       53       56       56       58       61   \n",
       "\n",
       "     sensor9  sensor10  sensor11  sensor12  sensor13  sensor14  sensor15  \\\n",
       "0         68        70        72        72        76        76        77   \n",
       "1         93        94        92        91        92        92        92   \n",
       "2         73        75        76        77        80        80        79   \n",
       "3         75        81        82        82        84        84        84   \n",
       "4         70        72        73        74        76        78        79   \n",
       "..       ...       ...       ...       ...       ...       ...       ...   \n",
       "250       94        93        93        92        94        96        92   \n",
       "251       99        97        97        97        97        97        97   \n",
       "252      102       102       101       100        99        98       101   \n",
       "253      106       106       103       103       103       102       101   \n",
       "254       62        60        63        61        71        67        70   \n",
       "\n",
       "     sensor16  sensor17  \n",
       "0          78         1  \n",
       "1          92         1  \n",
       "2          81         1  \n",
       "3          85         1  \n",
       "4          78         1  \n",
       "..        ...       ...  \n",
       "250        96         1  \n",
       "251        96         1  \n",
       "252        98         1  \n",
       "253       102         1  \n",
       "254        71         1  \n",
       "\n",
       "[255 rows x 17 columns]"
      ]
     },
     "execution_count": 7,
     "metadata": {},
     "output_type": "execute_result"
    }
   ],
   "source": [
    "df3 = df3.iloc[:255,]\n",
    "df3"
   ]
  },
  {
   "cell_type": "markdown",
   "id": "2c880198",
   "metadata": {
    "id": "9c727b3c"
   },
   "source": [
    "# It is quite useful to add a hierarchical index (Also known as multi-level index) for more sophisticated data analysis. In this case, let’s add index Year 1 and Year 2 for df1 and df2 respectively. To do that, we can simply specify the keys argument."
   ]
  },
  {
   "cell_type": "code",
   "execution_count": 8,
   "id": "08ffd5e6",
   "metadata": {
    "id": "bbe9f327",
    "outputId": "3ea523b4-c16c-4d82-c1ff-24e50842d14c"
   },
   "outputs": [],
   "source": [
    "# frames = [df,df2,df3]\n",
    "# df_keys = pd.concat(frames, keys = ['1','2','3'])\n",
    "# df_keys"
   ]
  },
  {
   "cell_type": "code",
   "execution_count": 9,
   "id": "13378235",
   "metadata": {
    "id": "7d796e03"
   },
   "outputs": [],
   "source": [
    "frames = [df,df2,df3]\n",
    "df_keys = pd.concat(frames, axis=0) \n"
   ]
  },
  {
   "cell_type": "code",
   "execution_count": 10,
   "id": "f89e77cc",
   "metadata": {
    "colab": {
     "base_uri": "https://localhost:8080/",
     "height": 487
    },
    "id": "91f5f418",
    "outputId": "60f50f13-35ea-405b-db24-60184005b324"
   },
   "outputs": [
    {
     "data": {
      "text/html": [
       "<div>\n",
       "<style scoped>\n",
       "    .dataframe tbody tr th:only-of-type {\n",
       "        vertical-align: middle;\n",
       "    }\n",
       "\n",
       "    .dataframe tbody tr th {\n",
       "        vertical-align: top;\n",
       "    }\n",
       "\n",
       "    .dataframe thead th {\n",
       "        text-align: right;\n",
       "    }\n",
       "</style>\n",
       "<table border=\"1\" class=\"dataframe\">\n",
       "  <thead>\n",
       "    <tr style=\"text-align: right;\">\n",
       "      <th></th>\n",
       "      <th>sensor1</th>\n",
       "      <th>sensor2</th>\n",
       "      <th>sensor3</th>\n",
       "      <th>sensor4</th>\n",
       "      <th>sensor5</th>\n",
       "      <th>sensor6</th>\n",
       "      <th>sensor7</th>\n",
       "      <th>sensor8</th>\n",
       "      <th>sensor9</th>\n",
       "      <th>sensor10</th>\n",
       "      <th>sensor11</th>\n",
       "      <th>sensor12</th>\n",
       "      <th>sensor13</th>\n",
       "      <th>sensor14</th>\n",
       "      <th>sensor15</th>\n",
       "      <th>sensor16</th>\n",
       "      <th>sensor17</th>\n",
       "    </tr>\n",
       "  </thead>\n",
       "  <tbody>\n",
       "    <tr>\n",
       "      <th>0</th>\n",
       "      <td>196</td>\n",
       "      <td>189</td>\n",
       "      <td>182</td>\n",
       "      <td>177</td>\n",
       "      <td>171</td>\n",
       "      <td>165</td>\n",
       "      <td>161</td>\n",
       "      <td>156</td>\n",
       "      <td>149</td>\n",
       "      <td>144</td>\n",
       "      <td>140</td>\n",
       "      <td>135</td>\n",
       "      <td>135</td>\n",
       "      <td>132</td>\n",
       "      <td>128</td>\n",
       "      <td>126</td>\n",
       "      <td>2</td>\n",
       "    </tr>\n",
       "    <tr>\n",
       "      <th>1</th>\n",
       "      <td>98</td>\n",
       "      <td>100</td>\n",
       "      <td>99</td>\n",
       "      <td>101</td>\n",
       "      <td>100</td>\n",
       "      <td>101</td>\n",
       "      <td>101</td>\n",
       "      <td>100</td>\n",
       "      <td>97</td>\n",
       "      <td>97</td>\n",
       "      <td>98</td>\n",
       "      <td>98</td>\n",
       "      <td>101</td>\n",
       "      <td>101</td>\n",
       "      <td>102</td>\n",
       "      <td>102</td>\n",
       "      <td>2</td>\n",
       "    </tr>\n",
       "    <tr>\n",
       "      <th>2</th>\n",
       "      <td>59</td>\n",
       "      <td>64</td>\n",
       "      <td>65</td>\n",
       "      <td>66</td>\n",
       "      <td>69</td>\n",
       "      <td>75</td>\n",
       "      <td>71</td>\n",
       "      <td>74</td>\n",
       "      <td>71</td>\n",
       "      <td>74</td>\n",
       "      <td>75</td>\n",
       "      <td>77</td>\n",
       "      <td>79</td>\n",
       "      <td>79</td>\n",
       "      <td>80</td>\n",
       "      <td>80</td>\n",
       "      <td>2</td>\n",
       "    </tr>\n",
       "    <tr>\n",
       "      <th>3</th>\n",
       "      <td>0</td>\n",
       "      <td>6</td>\n",
       "      <td>12</td>\n",
       "      <td>16</td>\n",
       "      <td>24</td>\n",
       "      <td>28</td>\n",
       "      <td>31</td>\n",
       "      <td>37</td>\n",
       "      <td>36</td>\n",
       "      <td>41</td>\n",
       "      <td>43</td>\n",
       "      <td>48</td>\n",
       "      <td>49</td>\n",
       "      <td>54</td>\n",
       "      <td>56</td>\n",
       "      <td>58</td>\n",
       "      <td>2</td>\n",
       "    </tr>\n",
       "    <tr>\n",
       "      <th>4</th>\n",
       "      <td>213</td>\n",
       "      <td>203</td>\n",
       "      <td>196</td>\n",
       "      <td>188</td>\n",
       "      <td>183</td>\n",
       "      <td>177</td>\n",
       "      <td>169</td>\n",
       "      <td>164</td>\n",
       "      <td>157</td>\n",
       "      <td>151</td>\n",
       "      <td>146</td>\n",
       "      <td>143</td>\n",
       "      <td>141</td>\n",
       "      <td>137</td>\n",
       "      <td>133</td>\n",
       "      <td>130</td>\n",
       "      <td>2</td>\n",
       "    </tr>\n",
       "    <tr>\n",
       "      <th>...</th>\n",
       "      <td>...</td>\n",
       "      <td>...</td>\n",
       "      <td>...</td>\n",
       "      <td>...</td>\n",
       "      <td>...</td>\n",
       "      <td>...</td>\n",
       "      <td>...</td>\n",
       "      <td>...</td>\n",
       "      <td>...</td>\n",
       "      <td>...</td>\n",
       "      <td>...</td>\n",
       "      <td>...</td>\n",
       "      <td>...</td>\n",
       "      <td>...</td>\n",
       "      <td>...</td>\n",
       "      <td>...</td>\n",
       "      <td>...</td>\n",
       "    </tr>\n",
       "    <tr>\n",
       "      <th>250</th>\n",
       "      <td>102</td>\n",
       "      <td>102</td>\n",
       "      <td>103</td>\n",
       "      <td>100</td>\n",
       "      <td>103</td>\n",
       "      <td>100</td>\n",
       "      <td>97</td>\n",
       "      <td>98</td>\n",
       "      <td>94</td>\n",
       "      <td>93</td>\n",
       "      <td>93</td>\n",
       "      <td>92</td>\n",
       "      <td>94</td>\n",
       "      <td>96</td>\n",
       "      <td>92</td>\n",
       "      <td>96</td>\n",
       "      <td>1</td>\n",
       "    </tr>\n",
       "    <tr>\n",
       "      <th>251</th>\n",
       "      <td>104</td>\n",
       "      <td>105</td>\n",
       "      <td>103</td>\n",
       "      <td>103</td>\n",
       "      <td>104</td>\n",
       "      <td>103</td>\n",
       "      <td>101</td>\n",
       "      <td>103</td>\n",
       "      <td>99</td>\n",
       "      <td>97</td>\n",
       "      <td>97</td>\n",
       "      <td>97</td>\n",
       "      <td>97</td>\n",
       "      <td>97</td>\n",
       "      <td>97</td>\n",
       "      <td>96</td>\n",
       "      <td>1</td>\n",
       "    </tr>\n",
       "    <tr>\n",
       "      <th>252</th>\n",
       "      <td>117</td>\n",
       "      <td>115</td>\n",
       "      <td>111</td>\n",
       "      <td>111</td>\n",
       "      <td>111</td>\n",
       "      <td>110</td>\n",
       "      <td>107</td>\n",
       "      <td>105</td>\n",
       "      <td>102</td>\n",
       "      <td>102</td>\n",
       "      <td>101</td>\n",
       "      <td>100</td>\n",
       "      <td>99</td>\n",
       "      <td>98</td>\n",
       "      <td>101</td>\n",
       "      <td>98</td>\n",
       "      <td>1</td>\n",
       "    </tr>\n",
       "    <tr>\n",
       "      <th>253</th>\n",
       "      <td>122</td>\n",
       "      <td>120</td>\n",
       "      <td>118</td>\n",
       "      <td>116</td>\n",
       "      <td>117</td>\n",
       "      <td>114</td>\n",
       "      <td>112</td>\n",
       "      <td>111</td>\n",
       "      <td>106</td>\n",
       "      <td>106</td>\n",
       "      <td>103</td>\n",
       "      <td>103</td>\n",
       "      <td>103</td>\n",
       "      <td>102</td>\n",
       "      <td>101</td>\n",
       "      <td>102</td>\n",
       "      <td>1</td>\n",
       "    </tr>\n",
       "    <tr>\n",
       "      <th>254</th>\n",
       "      <td>43</td>\n",
       "      <td>46</td>\n",
       "      <td>50</td>\n",
       "      <td>53</td>\n",
       "      <td>56</td>\n",
       "      <td>56</td>\n",
       "      <td>58</td>\n",
       "      <td>61</td>\n",
       "      <td>62</td>\n",
       "      <td>60</td>\n",
       "      <td>63</td>\n",
       "      <td>61</td>\n",
       "      <td>71</td>\n",
       "      <td>67</td>\n",
       "      <td>70</td>\n",
       "      <td>71</td>\n",
       "      <td>1</td>\n",
       "    </tr>\n",
       "  </tbody>\n",
       "</table>\n",
       "<p>765 rows × 17 columns</p>\n",
       "</div>"
      ],
      "text/plain": [
       "     sensor1  sensor2  sensor3  sensor4  sensor5  sensor6  sensor7  sensor8  \\\n",
       "0        196      189      182      177      171      165      161      156   \n",
       "1         98      100       99      101      100      101      101      100   \n",
       "2         59       64       65       66       69       75       71       74   \n",
       "3          0        6       12       16       24       28       31       37   \n",
       "4        213      203      196      188      183      177      169      164   \n",
       "..       ...      ...      ...      ...      ...      ...      ...      ...   \n",
       "250      102      102      103      100      103      100       97       98   \n",
       "251      104      105      103      103      104      103      101      103   \n",
       "252      117      115      111      111      111      110      107      105   \n",
       "253      122      120      118      116      117      114      112      111   \n",
       "254       43       46       50       53       56       56       58       61   \n",
       "\n",
       "     sensor9  sensor10  sensor11  sensor12  sensor13  sensor14  sensor15  \\\n",
       "0        149       144       140       135       135       132       128   \n",
       "1         97        97        98        98       101       101       102   \n",
       "2         71        74        75        77        79        79        80   \n",
       "3         36        41        43        48        49        54        56   \n",
       "4        157       151       146       143       141       137       133   \n",
       "..       ...       ...       ...       ...       ...       ...       ...   \n",
       "250       94        93        93        92        94        96        92   \n",
       "251       99        97        97        97        97        97        97   \n",
       "252      102       102       101       100        99        98       101   \n",
       "253      106       106       103       103       103       102       101   \n",
       "254       62        60        63        61        71        67        70   \n",
       "\n",
       "     sensor16  sensor17  \n",
       "0         126         2  \n",
       "1         102         2  \n",
       "2          80         2  \n",
       "3          58         2  \n",
       "4         130         2  \n",
       "..        ...       ...  \n",
       "250        96         1  \n",
       "251        96         1  \n",
       "252        98         1  \n",
       "253       102         1  \n",
       "254        71         1  \n",
       "\n",
       "[765 rows x 17 columns]"
      ]
     },
     "execution_count": 10,
     "metadata": {},
     "output_type": "execute_result"
    }
   ],
   "source": [
    "df_keys"
   ]
  },
  {
   "cell_type": "code",
   "execution_count": 11,
   "id": "e85cf899",
   "metadata": {
    "id": "c5d01c8d",
    "outputId": "d25f4715-9423-44a0-9f54-1352ab39d9fd"
   },
   "outputs": [
    {
     "data": {
      "text/html": [
       "<div>\n",
       "<style scoped>\n",
       "    .dataframe tbody tr th:only-of-type {\n",
       "        vertical-align: middle;\n",
       "    }\n",
       "\n",
       "    .dataframe tbody tr th {\n",
       "        vertical-align: top;\n",
       "    }\n",
       "\n",
       "    .dataframe thead th {\n",
       "        text-align: right;\n",
       "    }\n",
       "</style>\n",
       "<table border=\"1\" class=\"dataframe\">\n",
       "  <thead>\n",
       "    <tr style=\"text-align: right;\">\n",
       "      <th></th>\n",
       "      <th>sensor1</th>\n",
       "      <th>sensor2</th>\n",
       "      <th>sensor3</th>\n",
       "      <th>sensor4</th>\n",
       "      <th>sensor5</th>\n",
       "      <th>sensor6</th>\n",
       "      <th>sensor7</th>\n",
       "      <th>sensor8</th>\n",
       "      <th>sensor9</th>\n",
       "      <th>sensor10</th>\n",
       "      <th>sensor11</th>\n",
       "      <th>sensor12</th>\n",
       "      <th>sensor13</th>\n",
       "      <th>sensor14</th>\n",
       "      <th>sensor15</th>\n",
       "      <th>sensor16</th>\n",
       "      <th>sensor17</th>\n",
       "    </tr>\n",
       "  </thead>\n",
       "  <tbody>\n",
       "    <tr>\n",
       "      <th>0</th>\n",
       "      <td>196</td>\n",
       "      <td>189</td>\n",
       "      <td>182</td>\n",
       "      <td>177</td>\n",
       "      <td>171</td>\n",
       "      <td>165</td>\n",
       "      <td>161</td>\n",
       "      <td>156</td>\n",
       "      <td>149</td>\n",
       "      <td>144</td>\n",
       "      <td>140</td>\n",
       "      <td>135</td>\n",
       "      <td>135</td>\n",
       "      <td>132</td>\n",
       "      <td>128</td>\n",
       "      <td>126</td>\n",
       "      <td>2</td>\n",
       "    </tr>\n",
       "    <tr>\n",
       "      <th>1</th>\n",
       "      <td>98</td>\n",
       "      <td>100</td>\n",
       "      <td>99</td>\n",
       "      <td>101</td>\n",
       "      <td>100</td>\n",
       "      <td>101</td>\n",
       "      <td>101</td>\n",
       "      <td>100</td>\n",
       "      <td>97</td>\n",
       "      <td>97</td>\n",
       "      <td>98</td>\n",
       "      <td>98</td>\n",
       "      <td>101</td>\n",
       "      <td>101</td>\n",
       "      <td>102</td>\n",
       "      <td>102</td>\n",
       "      <td>2</td>\n",
       "    </tr>\n",
       "    <tr>\n",
       "      <th>2</th>\n",
       "      <td>59</td>\n",
       "      <td>64</td>\n",
       "      <td>65</td>\n",
       "      <td>66</td>\n",
       "      <td>69</td>\n",
       "      <td>75</td>\n",
       "      <td>71</td>\n",
       "      <td>74</td>\n",
       "      <td>71</td>\n",
       "      <td>74</td>\n",
       "      <td>75</td>\n",
       "      <td>77</td>\n",
       "      <td>79</td>\n",
       "      <td>79</td>\n",
       "      <td>80</td>\n",
       "      <td>80</td>\n",
       "      <td>2</td>\n",
       "    </tr>\n",
       "    <tr>\n",
       "      <th>3</th>\n",
       "      <td>0</td>\n",
       "      <td>6</td>\n",
       "      <td>12</td>\n",
       "      <td>16</td>\n",
       "      <td>24</td>\n",
       "      <td>28</td>\n",
       "      <td>31</td>\n",
       "      <td>37</td>\n",
       "      <td>36</td>\n",
       "      <td>41</td>\n",
       "      <td>43</td>\n",
       "      <td>48</td>\n",
       "      <td>49</td>\n",
       "      <td>54</td>\n",
       "      <td>56</td>\n",
       "      <td>58</td>\n",
       "      <td>2</td>\n",
       "    </tr>\n",
       "    <tr>\n",
       "      <th>4</th>\n",
       "      <td>213</td>\n",
       "      <td>203</td>\n",
       "      <td>196</td>\n",
       "      <td>188</td>\n",
       "      <td>183</td>\n",
       "      <td>177</td>\n",
       "      <td>169</td>\n",
       "      <td>164</td>\n",
       "      <td>157</td>\n",
       "      <td>151</td>\n",
       "      <td>146</td>\n",
       "      <td>143</td>\n",
       "      <td>141</td>\n",
       "      <td>137</td>\n",
       "      <td>133</td>\n",
       "      <td>130</td>\n",
       "      <td>2</td>\n",
       "    </tr>\n",
       "    <tr>\n",
       "      <th>...</th>\n",
       "      <td>...</td>\n",
       "      <td>...</td>\n",
       "      <td>...</td>\n",
       "      <td>...</td>\n",
       "      <td>...</td>\n",
       "      <td>...</td>\n",
       "      <td>...</td>\n",
       "      <td>...</td>\n",
       "      <td>...</td>\n",
       "      <td>...</td>\n",
       "      <td>...</td>\n",
       "      <td>...</td>\n",
       "      <td>...</td>\n",
       "      <td>...</td>\n",
       "      <td>...</td>\n",
       "      <td>...</td>\n",
       "      <td>...</td>\n",
       "    </tr>\n",
       "    <tr>\n",
       "      <th>250</th>\n",
       "      <td>102</td>\n",
       "      <td>102</td>\n",
       "      <td>103</td>\n",
       "      <td>100</td>\n",
       "      <td>103</td>\n",
       "      <td>100</td>\n",
       "      <td>97</td>\n",
       "      <td>98</td>\n",
       "      <td>94</td>\n",
       "      <td>93</td>\n",
       "      <td>93</td>\n",
       "      <td>92</td>\n",
       "      <td>94</td>\n",
       "      <td>96</td>\n",
       "      <td>92</td>\n",
       "      <td>96</td>\n",
       "      <td>1</td>\n",
       "    </tr>\n",
       "    <tr>\n",
       "      <th>251</th>\n",
       "      <td>104</td>\n",
       "      <td>105</td>\n",
       "      <td>103</td>\n",
       "      <td>103</td>\n",
       "      <td>104</td>\n",
       "      <td>103</td>\n",
       "      <td>101</td>\n",
       "      <td>103</td>\n",
       "      <td>99</td>\n",
       "      <td>97</td>\n",
       "      <td>97</td>\n",
       "      <td>97</td>\n",
       "      <td>97</td>\n",
       "      <td>97</td>\n",
       "      <td>97</td>\n",
       "      <td>96</td>\n",
       "      <td>1</td>\n",
       "    </tr>\n",
       "    <tr>\n",
       "      <th>252</th>\n",
       "      <td>117</td>\n",
       "      <td>115</td>\n",
       "      <td>111</td>\n",
       "      <td>111</td>\n",
       "      <td>111</td>\n",
       "      <td>110</td>\n",
       "      <td>107</td>\n",
       "      <td>105</td>\n",
       "      <td>102</td>\n",
       "      <td>102</td>\n",
       "      <td>101</td>\n",
       "      <td>100</td>\n",
       "      <td>99</td>\n",
       "      <td>98</td>\n",
       "      <td>101</td>\n",
       "      <td>98</td>\n",
       "      <td>1</td>\n",
       "    </tr>\n",
       "    <tr>\n",
       "      <th>253</th>\n",
       "      <td>122</td>\n",
       "      <td>120</td>\n",
       "      <td>118</td>\n",
       "      <td>116</td>\n",
       "      <td>117</td>\n",
       "      <td>114</td>\n",
       "      <td>112</td>\n",
       "      <td>111</td>\n",
       "      <td>106</td>\n",
       "      <td>106</td>\n",
       "      <td>103</td>\n",
       "      <td>103</td>\n",
       "      <td>103</td>\n",
       "      <td>102</td>\n",
       "      <td>101</td>\n",
       "      <td>102</td>\n",
       "      <td>1</td>\n",
       "    </tr>\n",
       "    <tr>\n",
       "      <th>254</th>\n",
       "      <td>43</td>\n",
       "      <td>46</td>\n",
       "      <td>50</td>\n",
       "      <td>53</td>\n",
       "      <td>56</td>\n",
       "      <td>56</td>\n",
       "      <td>58</td>\n",
       "      <td>61</td>\n",
       "      <td>62</td>\n",
       "      <td>60</td>\n",
       "      <td>63</td>\n",
       "      <td>61</td>\n",
       "      <td>71</td>\n",
       "      <td>67</td>\n",
       "      <td>70</td>\n",
       "      <td>71</td>\n",
       "      <td>1</td>\n",
       "    </tr>\n",
       "  </tbody>\n",
       "</table>\n",
       "<p>765 rows × 17 columns</p>\n",
       "</div>"
      ],
      "text/plain": [
       "     sensor1  sensor2  sensor3  sensor4  sensor5  sensor6  sensor7  sensor8  \\\n",
       "0        196      189      182      177      171      165      161      156   \n",
       "1         98      100       99      101      100      101      101      100   \n",
       "2         59       64       65       66       69       75       71       74   \n",
       "3          0        6       12       16       24       28       31       37   \n",
       "4        213      203      196      188      183      177      169      164   \n",
       "..       ...      ...      ...      ...      ...      ...      ...      ...   \n",
       "250      102      102      103      100      103      100       97       98   \n",
       "251      104      105      103      103      104      103      101      103   \n",
       "252      117      115      111      111      111      110      107      105   \n",
       "253      122      120      118      116      117      114      112      111   \n",
       "254       43       46       50       53       56       56       58       61   \n",
       "\n",
       "     sensor9  sensor10  sensor11  sensor12  sensor13  sensor14  sensor15  \\\n",
       "0        149       144       140       135       135       132       128   \n",
       "1         97        97        98        98       101       101       102   \n",
       "2         71        74        75        77        79        79        80   \n",
       "3         36        41        43        48        49        54        56   \n",
       "4        157       151       146       143       141       137       133   \n",
       "..       ...       ...       ...       ...       ...       ...       ...   \n",
       "250       94        93        93        92        94        96        92   \n",
       "251       99        97        97        97        97        97        97   \n",
       "252      102       102       101       100        99        98       101   \n",
       "253      106       106       103       103       103       102       101   \n",
       "254       62        60        63        61        71        67        70   \n",
       "\n",
       "     sensor16  sensor17  \n",
       "0         126         2  \n",
       "1         102         2  \n",
       "2          80         2  \n",
       "3          58         2  \n",
       "4         130         2  \n",
       "..        ...       ...  \n",
       "250        96         1  \n",
       "251        96         1  \n",
       "252        98         1  \n",
       "253       102         1  \n",
       "254        71         1  \n",
       "\n",
       "[765 rows x 17 columns]"
      ]
     },
     "execution_count": 11,
     "metadata": {},
     "output_type": "execute_result"
    }
   ],
   "source": [
    "df_keys"
   ]
  },
  {
   "cell_type": "code",
   "execution_count": 12,
   "id": "50c87fb3",
   "metadata": {
    "id": "421acda6"
   },
   "outputs": [],
   "source": [
    "df_keys = df_keys.to_numpy()"
   ]
  },
  {
   "cell_type": "code",
   "execution_count": 13,
   "id": "75f94d97",
   "metadata": {
    "colab": {
     "base_uri": "https://localhost:8080/"
    },
    "id": "a36f4fcd",
    "outputId": "3f356368-cf7a-4a03-cda9-8cf0ad4662a8"
   },
   "outputs": [
    {
     "data": {
      "text/plain": [
       "(765, 17)"
      ]
     },
     "execution_count": 13,
     "metadata": {},
     "output_type": "execute_result"
    }
   ],
   "source": [
    "df_keys.shape"
   ]
  },
  {
   "cell_type": "code",
   "execution_count": 14,
   "id": "e4856e76",
   "metadata": {
    "id": "5fe6dcc2"
   },
   "outputs": [],
   "source": [
    "xtrain1 = df_keys.reshape(51,5,3,17)"
   ]
  },
  {
   "cell_type": "code",
   "execution_count": 15,
   "id": "3f2c6652",
   "metadata": {
    "id": "d2dd946a"
   },
   "outputs": [],
   "source": [
    "y_train1 = df_keys[:,16]"
   ]
  },
  {
   "cell_type": "code",
   "execution_count": 16,
   "id": "8467c3db",
   "metadata": {
    "colab": {
     "base_uri": "https://localhost:8080/"
    },
    "id": "QzLc5azCo61h",
    "outputId": "1aa83c92-e2d5-48cb-9675-071f6676f8e0"
   },
   "outputs": [
    {
     "data": {
      "text/plain": [
       "(765,)"
      ]
     },
     "execution_count": 16,
     "metadata": {},
     "output_type": "execute_result"
    }
   ],
   "source": [
    "y_train1.shape"
   ]
  },
  {
   "cell_type": "code",
   "execution_count": null,
   "id": "f822fd29",
   "metadata": {
    "id": "dC3Daf-ktHzu"
   },
   "outputs": [],
   "source": []
  },
  {
   "cell_type": "code",
   "execution_count": 17,
   "id": "555053d6",
   "metadata": {
    "id": "6fc45457",
    "outputId": "dfe9cf52-4d35-4c21-dce8-512090c91dd2"
   },
   "outputs": [
    {
     "data": {
      "text/plain": [
       "<AxesSubplot:>"
      ]
     },
     "execution_count": 17,
     "metadata": {},
     "output_type": "execute_result"
    },
    {
     "data": {
      "image/png": "[encoded data removed]",
      "text/plain": [
       "<Figure size 1800x720 with 2 Axes>"
      ]
     },
     "metadata": {
      "needs_background": "light"
     },
     "output_type": "display_data"
    }
   ],
   "source": [
    "import missingno as msno\n",
    "\n",
    "msno.matrix(df)"
   ]
  },
  {
   "cell_type": "markdown",
   "id": "195e0de5",
   "metadata": {
    "id": "3d2f7829"
   },
   "source": [
    "# msno.matrix(df) 을 통해 결측치가 없음을 확인하였다.\n",
    "\n"
   ]
  },
  {
   "cell_type": "markdown",
   "id": "9a9efa09",
   "metadata": {
    "id": "f00bc1fa"
   },
   "source": [
    "# 해야 할 일\n",
    "\n",
    "\n",
    "- csv 파일 만들기\n",
    "- --> 자동으로 data 에 concat 하기\n",
    "- 그것을 train, test split(주로 train 에 배치)\n",
    "- test 는 새로 들어온 데이터를 기준으로 함(신원인증 버튼 누르면 1분동안의 새 데이터)\n",
    "- 레이블링(y_train 의 차원을 x_train 과 맞춰주기 위해서 코딩 필요)\n",
    "- 자동 레이블링 과정 필요(string(id)-->int)\n",
    "\n",
    "\n",
    "                            "
   ]
  },
  {
   "cell_type": "markdown",
   "id": "e15a3c1f",
   "metadata": {
    "id": "0debab7c"
   },
   "source": [
    "# 행렬의 20 행 마다 짤라서 사진 만들기(레이블링 추가는 기억 후 나중에 추가 하기 y_train 으로 만들기)\n",
    "\n"
   ]
  },
  {
   "cell_type": "markdown",
   "id": "e0e38a62",
   "metadata": {
    "id": "16992434"
   },
   "source": [
    "\n",
    "\n",
    "\n",
    "\n",
    "# 나머지 4*16은 x_test\n",
    "\n",
    "# 라벨은 마지막 열 이용!\n"
   ]
  },
  {
   "cell_type": "code",
   "execution_count": 18,
   "id": "2fbd7b5b",
   "metadata": {
    "id": "H45cwgdjngoR"
   },
   "outputs": [],
   "source": [
    "xtrain1 = xtrain1.flatten()"
   ]
  },
  {
   "cell_type": "code",
   "execution_count": 19,
   "id": "339cee57",
   "metadata": {
    "colab": {
     "base_uri": "https://localhost:8080/"
    },
    "id": "QLNxJWFInjzc",
    "outputId": "5585d5f1-1e1f-4e62-a25a-f045b281ecac"
   },
   "outputs": [
    {
     "data": {
      "text/plain": [
       "(13005,)"
      ]
     },
     "execution_count": 19,
     "metadata": {},
     "output_type": "execute_result"
    }
   ],
   "source": [
    "xtrain1.shape"
   ]
  },
  {
   "cell_type": "code",
   "execution_count": 20,
   "id": "86adacb2",
   "metadata": {
    "id": "PtX01oNhxNyF"
   },
   "outputs": [],
   "source": [
    "addx = xtrain1[:255]"
   ]
  },
  {
   "cell_type": "code",
   "execution_count": 21,
   "id": "1086d75f",
   "metadata": {
    "id": "Hqqgp3Fcxa9B"
   },
   "outputs": [],
   "source": [
    "newx = xtrain1[255:]"
   ]
  },
  {
   "cell_type": "code",
   "execution_count": 22,
   "id": "8173179d",
   "metadata": {
    "id": "zGPwCNbux1rF"
   },
   "outputs": [],
   "source": [
    "newx = pd.DataFrame(newx)\n",
    "addx = pd.DataFrame(addx)"
   ]
  },
  {
   "cell_type": "code",
   "execution_count": 28,
   "id": "da5f973f",
   "metadata": {
    "id": "d4v0qvlYxfSa"
   },
   "outputs": [],
   "source": [
    "h1 = pd.concat(list1, axis = 0)"
   ]
  },
  {
   "cell_type": "code",
   "execution_count": 69,
   "id": "441b8854",
   "metadata": {
    "id": "czW3d8FmyEJ1"
   },
   "outputs": [],
   "source": [
    "h2 = h1.to_numpy()"
   ]
  },
  {
   "cell_type": "code",
   "execution_count": 70,
   "id": "697e494c",
   "metadata": {},
   "outputs": [
    {
     "data": {
      "text/html": [
       "<div>\n",
       "<style scoped>\n",
       "    .dataframe tbody tr th:only-of-type {\n",
       "        vertical-align: middle;\n",
       "    }\n",
       "\n",
       "    .dataframe tbody tr th {\n",
       "        vertical-align: top;\n",
       "    }\n",
       "\n",
       "    .dataframe thead th {\n",
       "        text-align: right;\n",
       "    }\n",
       "</style>\n",
       "<table border=\"1\" class=\"dataframe\">\n",
       "  <thead>\n",
       "    <tr style=\"text-align: right;\">\n",
       "      <th></th>\n",
       "      <th>0</th>\n",
       "    </tr>\n",
       "  </thead>\n",
       "  <tbody>\n",
       "    <tr>\n",
       "      <th>0</th>\n",
       "      <td>108</td>\n",
       "    </tr>\n",
       "    <tr>\n",
       "      <th>1</th>\n",
       "      <td>105</td>\n",
       "    </tr>\n",
       "    <tr>\n",
       "      <th>2</th>\n",
       "      <td>104</td>\n",
       "    </tr>\n",
       "    <tr>\n",
       "      <th>3</th>\n",
       "      <td>104</td>\n",
       "    </tr>\n",
       "    <tr>\n",
       "      <th>4</th>\n",
       "      <td>104</td>\n",
       "    </tr>\n",
       "    <tr>\n",
       "      <th>...</th>\n",
       "      <td>...</td>\n",
       "    </tr>\n",
       "    <tr>\n",
       "      <th>250</th>\n",
       "      <td>89</td>\n",
       "    </tr>\n",
       "    <tr>\n",
       "      <th>251</th>\n",
       "      <td>89</td>\n",
       "    </tr>\n",
       "    <tr>\n",
       "      <th>252</th>\n",
       "      <td>90</td>\n",
       "    </tr>\n",
       "    <tr>\n",
       "      <th>253</th>\n",
       "      <td>91</td>\n",
       "    </tr>\n",
       "    <tr>\n",
       "      <th>254</th>\n",
       "      <td>2</td>\n",
       "    </tr>\n",
       "  </tbody>\n",
       "</table>\n",
       "<p>13005 rows × 1 columns</p>\n",
       "</div>"
      ],
      "text/plain": [
       "       0\n",
       "0    108\n",
       "1    105\n",
       "2    104\n",
       "3    104\n",
       "4    104\n",
       "..   ...\n",
       "250   89\n",
       "251   89\n",
       "252   90\n",
       "253   91\n",
       "254    2\n",
       "\n",
       "[13005 rows x 1 columns]"
      ]
     },
     "execution_count": 70,
     "metadata": {},
     "output_type": "execute_result"
    }
   ],
   "source": [
    "h1"
   ]
  },
  {
   "cell_type": "code",
   "execution_count": 81,
   "id": "33338ea3",
   "metadata": {},
   "outputs": [],
   "source": [
    "h0 = np.array(h1)"
   ]
  },
  {
   "cell_type": "code",
   "execution_count": 82,
   "id": "c9ae23f3",
   "metadata": {},
   "outputs": [
    {
     "data": {
      "text/plain": [
       "array([108, 105, 104, ...,  90,  91,   2])"
      ]
     },
     "execution_count": 82,
     "metadata": {},
     "output_type": "execute_result"
    }
   ],
   "source": [
    "h0.flatten()"
   ]
  },
  {
   "cell_type": "code",
   "execution_count": 83,
   "id": "9f9d039f",
   "metadata": {},
   "outputs": [
    {
     "data": {
      "text/plain": [
       "(13005, 1)"
      ]
     },
     "execution_count": 83,
     "metadata": {},
     "output_type": "execute_result"
    }
   ],
   "source": [
    "h0.shape"
   ]
  },
  {
   "cell_type": "code",
   "execution_count": 77,
   "id": "a405ac1c",
   "metadata": {},
   "outputs": [],
   "source": [
    "h0 = h0[:10200]"
   ]
  },
  {
   "cell_type": "code",
   "execution_count": 84,
   "id": "ef7cf5ad",
   "metadata": {},
   "outputs": [],
   "source": [
    "hout = h0[10200:]"
   ]
  },
  {
   "cell_type": "code",
   "execution_count": 80,
   "id": "c957316f",
   "metadata": {},
   "outputs": [],
   "source": [
    "hinput = h0.reshape(40,5,3,17)"
   ]
  },
  {
   "cell_type": "code",
   "execution_count": 85,
   "id": "88262430",
   "metadata": {},
   "outputs": [],
   "source": [
    "htest = hout.reshape(11,5,3,17)"
   ]
  },
  {
   "cell_type": "code",
   "execution_count": 30,
   "id": "a9dbfd77",
   "metadata": {
    "colab": {
     "base_uri": "https://localhost:8080/"
    },
    "id": "6d08WriIylic",
    "outputId": "1d5c1eef-5088-487e-bc96-40b35866b93d"
   },
   "outputs": [
    {
     "data": {
      "text/plain": [
       "array([[[[108, 105, 104, ...,  95,  98,   2],\n",
       "         [ 51,  56,  59, ...,  80,  80,   2],\n",
       "         [ 93,  93,  95, ...,  90,  91,   2]],\n",
       "\n",
       "        [[  0,   5,  12, ...,  60,  63,   2],\n",
       "         [ 73,  73,  73, ...,  80,  80,   2],\n",
       "         [ 62,  64,  65, ...,  79,  79,   2]],\n",
       "\n",
       "        [[131, 129, 124, ..., 104, 103,   2],\n",
       "         [124, 121, 120, ..., 108, 106,   2],\n",
       "         [ 34,  37,  42, ...,  71,  73,   2]],\n",
       "\n",
       "        [[ 24,  29,  34, ...,  66,  69,   2],\n",
       "         [ 47,  52,  52, ...,  71,  71,   2],\n",
       "         [138, 138, 132, ..., 107, 106,   2]],\n",
       "\n",
       "        [[102, 100, 101, ...,  92,  94,   2],\n",
       "         [ 73,  76,  78, ...,  87,  89,   2],\n",
       "         [ 20,  29,  31, ...,  71,  69,   2]]],\n",
       "\n",
       "\n",
       "       [[[  0,   0,   3, ...,  53,  56,   2],\n",
       "         [ 25,  27,  37, ...,  68,  74,   2],\n",
       "         [102, 100, 101, ...,  93,  91,   2]],\n",
       "\n",
       "        [[175, 175, 165, ..., 126, 121,   2],\n",
       "         [ 11,  18,  22, ...,  59,  67,   2],\n",
       "         [  1,   7,  14, ...,  58,  61,   2]],\n",
       "\n",
       "        [[ 91,  91,  89, ...,  81,  82,   2],\n",
       "         [ 79,  77,  79, ...,  84,  85,   2],\n",
       "         [ 65,  68,  70, ...,  87,  87,   2]],\n",
       "\n",
       "        [[ 31,  35,  38, ...,  71,  72,   2],\n",
       "         [ 23,  28,  33, ...,  65,  69,   2],\n",
       "         [ 63,  65,  69, ...,  75,  76,   2]],\n",
       "\n",
       "        [[ 95,  95,  94, ...,  89,  90,   2],\n",
       "         [ 66,  68,  70, ...,  86,  87,   2],\n",
       "         [116, 115, 112, ..., 100,  99,   2]]],\n",
       "\n",
       "\n",
       "       [[[ 31,  36,  40, ...,  72,  72,   2],\n",
       "         [ 63,  66,  68, ...,  73,  75,   2],\n",
       "         [ 77,  75,  78, ...,  83,  83,   2]],\n",
       "\n",
       "        [[ 80,  85,  82, ...,  89,  93,   2],\n",
       "         [ 39,  42,  46, ...,  76,  79,   2],\n",
       "         [ 32,  36,  37, ...,  70,  70,   2]],\n",
       "\n",
       "        [[ 43,  49,  50, ...,  68,  70,   2],\n",
       "         [ 88,  87,  87, ...,  86,  87,   2],\n",
       "         [112, 110, 112, ...,  97,  97,   2]],\n",
       "\n",
       "        [[ 44,  51,  51, ...,  81,  82,   2],\n",
       "         [  7,  14,  18, ...,  62,  66,   2],\n",
       "         [ 88,  86,  88, ...,  85,  84,   2]],\n",
       "\n",
       "        [[ 65,  67,  68, ...,  73,  73,   2],\n",
       "         [105, 106, 102, ...,  96,  95,   2],\n",
       "         [ 64,  67,  68, ...,  85,  86,   2]]],\n",
       "\n",
       "\n",
       "       ...,\n",
       "\n",
       "\n",
       "       [[[ 35,  41,  44, ...,  72,  74,   1],\n",
       "         [ 34,  36,  39, ...,  72,  73,   1],\n",
       "         [ 53,  55,  58, ...,  72,  73,   1]],\n",
       "\n",
       "        [[ 92,  91,  92, ...,  88,  88,   1],\n",
       "         [ 89,  86,  93, ...,  87,  90,   1],\n",
       "         [ 40,  44,  48, ...,  79,  82,   1]],\n",
       "\n",
       "        [[ 37,  43,  46, ...,  71,  73,   1],\n",
       "         [ 45,  49,  54, ...,  72,  74,   1],\n",
       "         [ 79,  80,  80, ...,  87,  84,   1]],\n",
       "\n",
       "        [[ 86,  88,  88, ...,  89,  88,   1],\n",
       "         [ 62,  62,  67, ...,  83,  85,   1],\n",
       "         [ 40,  46,  48, ...,  75,  76,   1]],\n",
       "\n",
       "        [[ 30,  39,  40, ...,  70,  70,   1],\n",
       "         [ 77,  77,  77, ...,  79,  78,   1],\n",
       "         [ 91,  88,  87, ...,  89,  88,   1]]],\n",
       "\n",
       "\n",
       "       [[[ 77,  81,  80, ...,  88,  87,   1],\n",
       "         [ 35,  40,  42, ...,  71,  73,   1],\n",
       "         [ 29,  33,  42, ...,  70,  74,   1]],\n",
       "\n",
       "        [[ 60,  62,  64, ...,  76,  76,   1],\n",
       "         [ 73,  78,  76, ...,  84,  82,   1],\n",
       "         [ 80,  79,  80, ...,  83,  85,   1]],\n",
       "\n",
       "        [[ 60,  62,  63, ...,  82,  83,   1],\n",
       "         [  2,  10,  16, ...,  62,  65,   1],\n",
       "         [ 52,  56,  58, ...,  78,  79,   1]],\n",
       "\n",
       "        [[ 55,  59,  57, ...,  73,  73,   1],\n",
       "         [102, 102, 103, ...,  92,  96,   1],\n",
       "         [104, 105, 103, ...,  97,  96,   1]],\n",
       "\n",
       "        [[117, 115, 111, ..., 101,  98,   1],\n",
       "         [122, 120, 118, ..., 101, 102,   1],\n",
       "         [ 43,  46,  50, ...,  70,  71,   1]]],\n",
       "\n",
       "\n",
       "       [[[196, 189, 182, ..., 128, 126,   2],\n",
       "         [ 98, 100,  99, ..., 102, 102,   2],\n",
       "         [ 59,  64,  65, ...,  80,  80,   2]],\n",
       "\n",
       "        [[  0,   6,  12, ...,  56,  58,   2],\n",
       "         [213, 203, 196, ..., 133, 130,   2],\n",
       "         [ 57,  58,  60, ...,  78,  79,   2]],\n",
       "\n",
       "        [[ 84,  84,  86, ...,  94,  94,   2],\n",
       "         [ 29,  39,  38, ...,  72,  71,   2],\n",
       "         [ 16,  20,  25, ...,  62,  63,   2]],\n",
       "\n",
       "        [[ 67,  69,  72, ...,  74,  76,   2],\n",
       "         [ 90,  84,  89, ...,  89,  89,   2],\n",
       "         [ 51,  53,  60, ...,  82,  81,   2]],\n",
       "\n",
       "        [[ 33,  35,  40, ...,  72,  72,   2],\n",
       "         [ 18,  24,  29, ...,  67,  70,   2],\n",
       "         [104, 103,  99, ...,  90,  91,   2]]]])"
      ]
     },
     "execution_count": 30,
     "metadata": {},
     "output_type": "execute_result"
    }
   ],
   "source": [
    "h2.reshape(51,5,3,17)"
   ]
  },
  {
   "cell_type": "code",
   "execution_count": 27,
   "id": "667b975e",
   "metadata": {
    "id": "pwBIc1wIxj8_"
   },
   "outputs": [],
   "source": [
    "list1 = [newx, addx]"
   ]
  },
  {
   "cell_type": "code",
   "execution_count": 31,
   "id": "26ff8c6a",
   "metadata": {
    "colab": {
     "base_uri": "https://localhost:8080/"
    },
    "id": "hHyM2gdiovov",
    "outputId": "3e6af791-ea84-4542-c609-f695a7d11708"
   },
   "outputs": [
    {
     "data": {
      "text/plain": [
       "(765,)"
      ]
     },
     "execution_count": 31,
     "metadata": {},
     "output_type": "execute_result"
    }
   ],
   "source": [
    "y_train1.shape"
   ]
  },
  {
   "cell_type": "code",
   "execution_count": 92,
   "id": "d3ab90d8",
   "metadata": {
    "id": "_3v-DP8ip_Cn"
   },
   "outputs": [],
   "source": [
    "ylabel = y_train1[0:765:15]"
   ]
  },
  {
   "cell_type": "code",
   "execution_count": 93,
   "id": "f2a2887b",
   "metadata": {
    "colab": {
     "base_uri": "https://localhost:8080/"
    },
    "id": "hOxGHEkQtPSS",
    "outputId": "83ff2202-0be0-4151-e95c-29b41fa5f091"
   },
   "outputs": [
    {
     "data": {
      "text/plain": [
       "(51,)"
      ]
     },
     "execution_count": 93,
     "metadata": {},
     "output_type": "execute_result"
    }
   ],
   "source": [
    "ylabel.shape"
   ]
  },
  {
   "cell_type": "code",
   "execution_count": 94,
   "id": "8471a848",
   "metadata": {
    "colab": {
     "base_uri": "https://localhost:8080/"
    },
    "id": "JaQXyY7Qv-Ms",
    "outputId": "802ee67c-adbd-4860-d03a-5db21c08258d"
   },
   "outputs": [
    {
     "data": {
      "text/plain": [
       "array([2, 2, 2, 2, 2, 2, 2, 2, 2, 2, 2, 2, 2, 2, 2, 2, 2, 0, 0, 0, 0, 0,\n",
       "       0, 0, 0, 0, 0, 0, 0, 0, 0, 0, 0, 0, 1, 1, 1, 1, 1, 1, 1, 1, 1, 1,\n",
       "       1, 1, 1, 1, 1, 1, 1])"
      ]
     },
     "execution_count": 94,
     "metadata": {},
     "output_type": "execute_result"
    }
   ],
   "source": [
    "ylabel"
   ]
  },
  {
   "cell_type": "code",
   "execution_count": 95,
   "id": "2d0a4931",
   "metadata": {
    "id": "qe9W08PotTQu"
   },
   "outputs": [],
   "source": [
    "y_train = ylabel[1:41]"
   ]
  },
  {
   "cell_type": "code",
   "execution_count": 59,
   "id": "7798bc70",
   "metadata": {
    "id": "1b9Uei27u3ei"
   },
   "outputs": [],
   "source": [
    "y_test = ylabel[40:]"
   ]
  },
  {
   "cell_type": "code",
   "execution_count": 91,
   "id": "c5a07177",
   "metadata": {
    "colab": {
     "base_uri": "https://localhost:8080/"
    },
    "id": "JXWS9nGgv50e",
    "outputId": "94d76133-d80b-4fb3-d0b4-0f5de5058ca2"
   },
   "outputs": [
    {
     "data": {
      "text/plain": [
       "[1, 1, 1, 1, 1, 1, 1, 1, 1, 1, 2]"
      ]
     },
     "execution_count": 91,
     "metadata": {},
     "output_type": "execute_result"
    }
   ],
   "source": [
    "y_test1"
   ]
  },
  {
   "cell_type": "code",
   "execution_count": 89,
   "id": "75eb5916",
   "metadata": {},
   "outputs": [
    {
     "data": {
      "text/plain": [
       "(11,)"
      ]
     },
     "execution_count": 89,
     "metadata": {},
     "output_type": "execute_result"
    }
   ],
   "source": [
    "y_test.shape"
   ]
  },
  {
   "cell_type": "code",
   "execution_count": 88,
   "id": "49d212a1",
   "metadata": {},
   "outputs": [],
   "source": [
    "ytest1 = np.array(y_test1)"
   ]
  },
  {
   "cell_type": "code",
   "execution_count": 38,
   "id": "99de2049",
   "metadata": {
    "id": "uU1glSyiqnCt"
   },
   "outputs": [],
   "source": [
    "xtest = xtrain1"
   ]
  },
  {
   "cell_type": "code",
   "execution_count": 87,
   "id": "2daf7184",
   "metadata": {},
   "outputs": [],
   "source": [
    "y_test1 = [1,1,1,1,1,1,1,1,1,1,2]"
   ]
  },
  {
   "cell_type": "code",
   "execution_count": 67,
   "id": "92eb5ec1",
   "metadata": {},
   "outputs": [
    {
     "data": {
      "text/plain": [
       "(11,)"
      ]
     },
     "execution_count": 67,
     "metadata": {},
     "output_type": "execute_result"
    }
   ],
   "source": [
    "ytest1.shape"
   ]
  },
  {
   "cell_type": "markdown",
   "id": "7b4c5efc",
   "metadata": {},
   "source": [
    "# 2가 뒤에 붙어있는 x data = h1 "
   ]
  },
  {
   "cell_type": "code",
   "execution_count": 68,
   "id": "5f69a565",
   "metadata": {
    "id": "4MlBFhxqzF2V"
   },
   "outputs": [
    {
     "data": {
      "text/html": [
       "<div>\n",
       "<style scoped>\n",
       "    .dataframe tbody tr th:only-of-type {\n",
       "        vertical-align: middle;\n",
       "    }\n",
       "\n",
       "    .dataframe tbody tr th {\n",
       "        vertical-align: top;\n",
       "    }\n",
       "\n",
       "    .dataframe thead th {\n",
       "        text-align: right;\n",
       "    }\n",
       "</style>\n",
       "<table border=\"1\" class=\"dataframe\">\n",
       "  <thead>\n",
       "    <tr style=\"text-align: right;\">\n",
       "      <th></th>\n",
       "      <th>0</th>\n",
       "    </tr>\n",
       "  </thead>\n",
       "  <tbody>\n",
       "    <tr>\n",
       "      <th>0</th>\n",
       "      <td>108</td>\n",
       "    </tr>\n",
       "    <tr>\n",
       "      <th>1</th>\n",
       "      <td>105</td>\n",
       "    </tr>\n",
       "    <tr>\n",
       "      <th>2</th>\n",
       "      <td>104</td>\n",
       "    </tr>\n",
       "    <tr>\n",
       "      <th>3</th>\n",
       "      <td>104</td>\n",
       "    </tr>\n",
       "    <tr>\n",
       "      <th>4</th>\n",
       "      <td>104</td>\n",
       "    </tr>\n",
       "    <tr>\n",
       "      <th>...</th>\n",
       "      <td>...</td>\n",
       "    </tr>\n",
       "    <tr>\n",
       "      <th>250</th>\n",
       "      <td>89</td>\n",
       "    </tr>\n",
       "    <tr>\n",
       "      <th>251</th>\n",
       "      <td>89</td>\n",
       "    </tr>\n",
       "    <tr>\n",
       "      <th>252</th>\n",
       "      <td>90</td>\n",
       "    </tr>\n",
       "    <tr>\n",
       "      <th>253</th>\n",
       "      <td>91</td>\n",
       "    </tr>\n",
       "    <tr>\n",
       "      <th>254</th>\n",
       "      <td>2</td>\n",
       "    </tr>\n",
       "  </tbody>\n",
       "</table>\n",
       "<p>13005 rows × 1 columns</p>\n",
       "</div>"
      ],
      "text/plain": [
       "       0\n",
       "0    108\n",
       "1    105\n",
       "2    104\n",
       "3    104\n",
       "4    104\n",
       "..   ...\n",
       "250   89\n",
       "251   89\n",
       "252   90\n",
       "253   91\n",
       "254    2\n",
       "\n",
       "[13005 rows x 1 columns]"
      ]
     },
     "execution_count": 68,
     "metadata": {},
     "output_type": "execute_result"
    }
   ],
   "source": [
    "h1"
   ]
  },
  {
   "cell_type": "code",
   "execution_count": 40,
   "id": "d28eb3fe",
   "metadata": {
    "id": "b7WaPG72qqV7"
   },
   "outputs": [],
   "source": [
    "xtest1 = xtest[10200:]"
   ]
  },
  {
   "cell_type": "code",
   "execution_count": 41,
   "id": "834789b9",
   "metadata": {
    "id": "QVJ20R4Hntza"
   },
   "outputs": [],
   "source": [
    "xtrain1 = xtrain1[:10200]"
   ]
  },
  {
   "cell_type": "code",
   "execution_count": 42,
   "id": "b53adcea",
   "metadata": {
    "id": "Tuqvt6qyqxcW"
   },
   "outputs": [],
   "source": [
    "xtest2 = xtest1.reshape(11,5,3,17)"
   ]
  },
  {
   "cell_type": "code",
   "execution_count": 43,
   "id": "b6f68d2d",
   "metadata": {
    "id": "k7Xt_zROn6f-"
   },
   "outputs": [],
   "source": [
    "xtrain2 = xtrain1.reshape(40,5,3,17)"
   ]
  },
  {
   "cell_type": "code",
   "execution_count": 96,
   "id": "15d42df5",
   "metadata": {
    "colab": {
     "base_uri": "https://localhost:8080/"
    },
    "id": "3ab0eb6d",
    "outputId": "d545c879-460a-4c7b-b9d4-f1f8a9b2220e"
   },
   "outputs": [
    {
     "name": "stdout",
     "output_type": "stream",
     "text": [
      "x_train: 40 x_test: 11\n"
     ]
    }
   ],
   "source": [
    "import tensorflow as tf\n",
    "from tensorflow import keras\n",
    "from tensorflow.keras import layers\n",
    "\n",
    "#예제\n",
    "\n",
    "#\n",
    "#(raw_train, raw_validation, raw_test), metadata = tfds.load(\n",
    " #   'cats_vs_dogs',\n",
    " #   split=['train[:80%]', 'train[80%:90%]', 'train[90%:]'],\n",
    " #   with_info=True,\n",
    " #   as_supervised=True,\n",
    "# #)\n",
    "# x_train, x_test, y_train, y_test = train_test_split(df2, y, test_size = 0.4,random_state=42) \n",
    "#1). X_train - 여기에는 모든 독립 변수가 포함되며 우리가 지정한 대로 모델을 훈련하는 데 사용되며, 완전한 데이터의 이 관찰 test_size = 0.4수단 60%은 모델을 훈련/적합하는 40%데 사용되고 나머지는 테스트에 사용됩니다. 모델.\n",
    "#2). X_test40% - 학습 단계에서 사용되지 않고 모델의 정확도를 테스트하기 위한 예측을 수행하는 데 사용되는 데이터의 독립 변수의 나머지 부분입니다.\n",
    "#3). y_train - 이것은 이 모델에 의해 예측되어야 하는 종속 변수입니다. 여기에는 독립 변수에 대한 범주 레이블이 포함됩니다. 모델을 훈련/피팅하는 동안 종속 변수를 지정해야 합니다.\n",
    "#4). y_test - 이 데이터에는 테스트 데이터에 대한 범주 레이블이 있으며, 이 레이블은 실제 범주와 예측 범주 간의 정확도를 테스트하는 데 사용됩니다.\n",
    "\n",
    "\n",
    "\n",
    "(x_train, y_train), (x_test, y_test) = (hinput, y_train  ),(htest, ytest1)\n",
    "# x_train, x_test, y_train, y_test = train_test_split(data, y_train, random_state=random_state, test_size=0.2)\n",
    "\n",
    "print(\"x_train:\", len(x_train), \"x_test:\", len(x_test))"
   ]
  },
  {
   "cell_type": "code",
   "execution_count": 97,
   "id": "0a90b5ea",
   "metadata": {
    "id": "1ef5eeb9",
    "outputId": "e4040907-e76a-4f09-e5b8-f8d1f1d01ee6"
   },
   "outputs": [
    {
     "data": {
      "text/plain": [
       "array([2, 2, 2, 2, 2, 2, 2, 2, 2, 2, 2, 2, 2, 2, 2, 2, 0, 0, 0, 0, 0, 0,\n",
       "       0, 0, 0, 0, 0, 0, 0, 0, 0, 0, 0, 1, 1, 1, 1, 1, 1, 1])"
      ]
     },
     "execution_count": 97,
     "metadata": {},
     "output_type": "execute_result"
    }
   ],
   "source": [
    "y_train"
   ]
  },
  {
   "cell_type": "code",
   "execution_count": null,
   "id": "62894634",
   "metadata": {
    "id": "5a356c16"
   },
   "outputs": [],
   "source": [
    "label = label[:285]"
   ]
  },
  {
   "cell_type": "code",
   "execution_count": null,
   "id": "956bb4a8",
   "metadata": {
    "id": "90f87f71",
    "outputId": "732ab11e-30f7-4621-dbec-5f2dfdcd26a3"
   },
   "outputs": [
    {
     "data": {
      "text/plain": [
       "0     1\n",
       "1     1\n",
       "2     1\n",
       "3     1\n",
       "4     1\n",
       "     ..\n",
       "40    3\n",
       "41    3\n",
       "42    3\n",
       "43    3\n",
       "44    3\n",
       "Name: level_0, Length: 285, dtype: object"
      ]
     },
     "execution_count": 190,
     "metadata": {},
     "output_type": "execute_result"
    }
   ],
   "source": [
    "label "
   ]
  },
  {
   "cell_type": "markdown",
   "id": "a37371c7",
   "metadata": {
    "id": "38e8a3c9"
   },
   "source": [
    "\n",
    "# 최대한 많은 데이터 확보가 중요함!!!\n",
    "# 밑의 CNN 모델을 쓸 것입니다 \n"
   ]
  },
  {
   "cell_type": "code",
   "execution_count": 98,
   "id": "90abb047",
   "metadata": {
    "colab": {
     "base_uri": "https://localhost:8080/"
    },
    "id": "cd13ac26",
    "outputId": "3b8b7217-f556-46fe-c209-ab76b4c74951"
   },
   "outputs": [
    {
     "name": "stdout",
     "output_type": "stream",
     "text": [
      "Model: \"model_1\"\n",
      "_________________________________________________________________\n",
      "Layer (type)                 Output Shape              Param #   \n",
      "=================================================================\n",
      "input_2 (InputLayer)         [(None, 5, 3, 17)]        0         \n",
      "_________________________________________________________________\n",
      "conv2d_3 (Conv2D)            (None, 5, 3, 128)         8832      \n",
      "_________________________________________________________________\n",
      "max_pooling2d_3 (MaxPooling2 (None, 3, 2, 128)         0         \n",
      "_________________________________________________________________\n",
      "conv2d_4 (Conv2D)            (None, 3, 2, 32)          16416     \n",
      "_________________________________________________________________\n",
      "max_pooling2d_4 (MaxPooling2 (None, 2, 1, 32)          0         \n",
      "_________________________________________________________________\n",
      "conv2d_5 (Conv2D)            (None, 2, 1, 16)          528       \n",
      "_________________________________________________________________\n",
      "max_pooling2d_5 (MaxPooling2 (None, 1, 1, 16)          0         \n",
      "_________________________________________________________________\n",
      "flatten_2 (Flatten)          (None, 16)                0         \n",
      "_________________________________________________________________\n",
      "dense_2 (Dense)              (None, 48)                816       \n",
      "_________________________________________________________________\n",
      "flatten_3 (Flatten)          (None, 48)                0         \n",
      "_________________________________________________________________\n",
      "dense_3 (Dense)              (None, 3)                 147       \n",
      "=================================================================\n",
      "Total params: 26,739\n",
      "Trainable params: 26,739\n",
      "Non-trainable params: 0\n",
      "_________________________________________________________________\n"
     ]
    }
   ],
   "source": [
    "img_input = keras.Input(shape=(5,3,17))  # (a,b,c) a는 개수, b는 row ,\n",
    "# c는 column c는 dense 출력층 개수와 똑같아야한다 \n",
    "\n",
    "\n",
    "x = keras.layers.Conv2D(128, (2,2),padding=\"same\",activation='relu')(img_input) #256 filters, 5 kernel size, window stride 1 (defalut)\n",
    "x = keras.layers.MaxPool2D(2, padding= 'same')(x)\n",
    "x = keras.layers.Conv2D(32, (2,2), padding=\"same\",activation='relu')(x)\n",
    "x = keras.layers.MaxPool2D(2, padding= 'same')(x)\n",
    "x = keras.layers.Conv2D(16, (1,1),padding=\"same\", activation='relu')(x)\n",
    "x = keras.layers.MaxPool2D(2, padding= 'same')(x)\n",
    "\n",
    "x = keras.layers.Flatten()(x)\n",
    "x = keras.layers.Dense(48, activation='relu')(x)\n",
    "x = keras.layers.Flatten()(x)\n",
    "predictions = keras.layers.Dense(3, activation='softmax')(x) \n",
    "\n",
    "model = keras.Model(inputs=img_input, outputs=predictions)\n",
    "\n",
    "model.summary()"
   ]
  },
  {
   "cell_type": "markdown",
   "id": "0d13fdf5",
   "metadata": {
    "id": "7837897a"
   },
   "source": [
    "# !!!!!!!!!!!!!!!!!!!!! 모델 학습 !!!!!!!!!!!!!!!!!!!!!!!!\n",
    "\n"
   ]
  },
  {
   "cell_type": "code",
   "execution_count": 66,
   "id": "c9877478",
   "metadata": {
    "colab": {
     "base_uri": "https://localhost:8080/"
    },
    "id": "25a81dd6",
    "outputId": "4ef74c41-707b-49aa-cc9b-52740cabda97"
   },
   "outputs": [
    {
     "data": {
      "text/plain": [
       "array([2, 2, 2, 2, 2, 2, 2, 2, 2, 2, 2, 2, 2, 2, 2, 2, 2, 0, 0, 0, 0, 0,\n",
       "       0, 0, 0, 0, 0, 0, 0, 0, 0, 0, 0, 0, 1, 1, 1, 1, 1, 1, 1, 1, 1, 1,\n",
       "       1, 1, 1, 1, 1, 1, 1])"
      ]
     },
     "execution_count": 66,
     "metadata": {},
     "output_type": "execute_result"
    }
   ],
   "source": [
    "ylabel"
   ]
  },
  {
   "cell_type": "markdown",
   "id": "93e84b22",
   "metadata": {
    "id": "96cf89f1"
   },
   "source": [
    "# 원 핫 인코딩"
   ]
  },
  {
   "cell_type": "code",
   "execution_count": 99,
   "id": "b09574af",
   "metadata": {
    "id": "0360dd8f",
    "outputId": "396aba10-2cb5-4391-eed1-e9a9d78859e9"
   },
   "outputs": [
    {
     "name": "stdout",
     "output_type": "stream",
     "text": [
      "(40, 5, 3, 17)\n",
      "(13, 3)\n"
     ]
    }
   ],
   "source": [
    "print(x_train.shape)\n",
    "print(one_hot_encode.shape)"
   ]
  },
  {
   "cell_type": "code",
   "execution_count": 103,
   "id": "0999c12d",
   "metadata": {
    "id": "3a4b1d24"
   },
   "outputs": [],
   "source": [
    "from tensorflow.keras.utils import to_categorical\n",
    "\n",
    "\n",
    "one_hot_encode = to_categorical(y_train)"
   ]
  },
  {
   "cell_type": "code",
   "execution_count": 100,
   "id": "63d7008e",
   "metadata": {
    "id": "vGlcSgOXvOc2"
   },
   "outputs": [],
   "source": [
    "\n",
    "one1 = to_categorical(y_test)"
   ]
  },
  {
   "cell_type": "code",
   "execution_count": 101,
   "id": "4d7fd8c3",
   "metadata": {
    "colab": {
     "base_uri": "https://localhost:8080/"
    },
    "id": "lvbtDQiivqNR",
    "outputId": "3012aa25-6a71-4ead-93af-61a82d16a361"
   },
   "outputs": [
    {
     "data": {
      "text/plain": [
       "array([[0., 1., 0.],\n",
       "       [0., 1., 0.],\n",
       "       [0., 1., 0.],\n",
       "       [0., 1., 0.],\n",
       "       [0., 1., 0.],\n",
       "       [0., 1., 0.],\n",
       "       [0., 1., 0.],\n",
       "       [0., 1., 0.],\n",
       "       [0., 1., 0.],\n",
       "       [0., 1., 0.],\n",
       "       [0., 0., 1.]], dtype=float32)"
      ]
     },
     "execution_count": 101,
     "metadata": {},
     "output_type": "execute_result"
    }
   ],
   "source": [
    "one1"
   ]
  },
  {
   "cell_type": "code",
   "execution_count": 50,
   "id": "db74ede9",
   "metadata": {
    "id": "bade058e"
   },
   "outputs": [],
   "source": [
    "\n",
    "from tensorflow.keras.utils import to_categorical\n",
    "y_test = to_categorical(y_test)"
   ]
  },
  {
   "cell_type": "code",
   "execution_count": 105,
   "id": "7e72872b",
   "metadata": {
    "colab": {
     "base_uri": "https://localhost:8080/",
     "height": 1000
    },
    "id": "6271beef",
    "outputId": "5f9be0e2-6715-4d06-ff93-8032eb19ef8b"
   },
   "outputs": [
    {
     "name": "stdout",
     "output_type": "stream",
     "text": [
      "Epoch 1/50\n",
      "2/2 [==============================] - 0s 6ms/step - loss: 0.5997 - accuracy: 0.9750\n",
      "Epoch 2/50\n",
      "2/2 [==============================] - 0s 6ms/step - loss: 1.1175 - accuracy: 0.7750\n",
      "Epoch 3/50\n",
      "2/2 [==============================] - 0s 4ms/step - loss: 3.3667 - accuracy: 0.3500\n",
      "Epoch 4/50\n",
      "2/2 [==============================] - 0s 4ms/step - loss: 0.5062 - accuracy: 0.9000\n",
      "Epoch 5/50\n",
      "2/2 [==============================] - 0s 3ms/step - loss: 1.7577 - accuracy: 0.8500\n",
      "Epoch 6/50\n",
      "2/2 [==============================] - 0s 5ms/step - loss: 1.7741 - accuracy: 0.8500\n",
      "Epoch 7/50\n",
      "2/2 [==============================] - 0s 5ms/step - loss: 0.6904 - accuracy: 0.8500\n",
      "Epoch 8/50\n",
      "2/2 [==============================] - 0s 5ms/step - loss: 0.1722 - accuracy: 0.9500\n",
      "Epoch 9/50\n",
      "2/2 [==============================] - 0s 16ms/step - loss: 1.2071 - accuracy: 0.5250\n",
      "Epoch 10/50\n",
      "2/2 [==============================] - 0s 5ms/step - loss: 0.5151 - accuracy: 0.7750\n",
      "Epoch 11/50\n",
      "2/2 [==============================] - 0s 5ms/step - loss: 0.1527 - accuracy: 0.9500\n",
      "Epoch 12/50\n",
      "2/2 [==============================] - 0s 5ms/step - loss: 0.2885 - accuracy: 0.8500\n",
      "Epoch 13/50\n",
      "2/2 [==============================] - 0s 5ms/step - loss: 0.1057 - accuracy: 1.0000\n",
      "Epoch 14/50\n",
      "2/2 [==============================] - 0s 6ms/step - loss: 0.0308 - accuracy: 1.0000\n",
      "Epoch 15/50\n",
      "2/2 [==============================] - 0s 5ms/step - loss: 0.1417 - accuracy: 0.9250\n",
      "Epoch 16/50\n",
      "2/2 [==============================] - 0s 5ms/step - loss: 0.1001 - accuracy: 0.9500\n",
      "Epoch 17/50\n",
      "2/2 [==============================] - 0s 5ms/step - loss: 0.0412 - accuracy: 1.0000\n",
      "Epoch 18/50\n",
      "2/2 [==============================] - 0s 5ms/step - loss: 0.0298 - accuracy: 1.0000\n",
      "Epoch 19/50\n",
      "2/2 [==============================] - 0s 5ms/step - loss: 0.0505 - accuracy: 1.0000\n",
      "Epoch 20/50\n",
      "2/2 [==============================] - 0s 5ms/step - loss: 0.0454 - accuracy: 1.0000\n",
      "Epoch 21/50\n",
      "2/2 [==============================] - 0s 4ms/step - loss: 0.0190 - accuracy: 1.0000\n",
      "Epoch 22/50\n",
      "2/2 [==============================] - 0s 5ms/step - loss: 0.0088 - accuracy: 1.0000\n",
      "Epoch 23/50\n",
      "2/2 [==============================] - 0s 5ms/step - loss: 0.0170 - accuracy: 1.0000\n",
      "Epoch 24/50\n",
      "2/2 [==============================] - 0s 5ms/step - loss: 0.0250 - accuracy: 1.0000\n",
      "Epoch 25/50\n",
      "2/2 [==============================] - 0s 5ms/step - loss: 0.0179 - accuracy: 1.0000\n",
      "Epoch 26/50\n",
      "2/2 [==============================] - 0s 5ms/step - loss: 0.0087 - accuracy: 1.0000\n",
      "Epoch 27/50\n",
      "2/2 [==============================] - 0s 5ms/step - loss: 0.0051 - accuracy: 1.0000\n",
      "Epoch 28/50\n",
      "2/2 [==============================] - 0s 18ms/step - loss: 0.0043 - accuracy: 1.0000\n",
      "Epoch 29/50\n",
      "2/2 [==============================] - 0s 6ms/step - loss: 0.0055 - accuracy: 1.0000\n",
      "Epoch 30/50\n",
      "2/2 [==============================] - 0s 6ms/step - loss: 0.0067 - accuracy: 1.0000\n",
      "Epoch 31/50\n",
      "2/2 [==============================] - 0s 8ms/step - loss: 0.0070 - accuracy: 1.0000\n",
      "Epoch 32/50\n",
      "2/2 [==============================] - 0s 5ms/step - loss: 0.0065 - accuracy: 1.0000\n",
      "Epoch 33/50\n",
      "2/2 [==============================] - 0s 8ms/step - loss: 0.0055 - accuracy: 1.0000\n",
      "Epoch 34/50\n",
      "2/2 [==============================] - 0s 6ms/step - loss: 0.0047 - accuracy: 1.0000\n",
      "Epoch 35/50\n",
      "2/2 [==============================] - 0s 5ms/step - loss: 0.0046 - accuracy: 1.0000\n",
      "Epoch 36/50\n",
      "2/2 [==============================] - 0s 5ms/step - loss: 0.0045 - accuracy: 1.0000\n",
      "Epoch 37/50\n",
      "2/2 [==============================] - 0s 5ms/step - loss: 0.0041 - accuracy: 1.0000\n",
      "Epoch 38/50\n",
      "2/2 [==============================] - 0s 6ms/step - loss: 0.0038 - accuracy: 1.0000\n",
      "Epoch 39/50\n",
      "2/2 [==============================] - 0s 5ms/step - loss: 0.0036 - accuracy: 1.0000\n",
      "Epoch 40/50\n",
      "2/2 [==============================] - 0s 6ms/step - loss: 0.0036 - accuracy: 1.0000\n",
      "Epoch 41/50\n",
      "2/2 [==============================] - 0s 6ms/step - loss: 0.0041 - accuracy: 1.0000\n",
      "Epoch 42/50\n",
      "2/2 [==============================] - 0s 7ms/step - loss: 0.0041 - accuracy: 1.0000\n",
      "Epoch 43/50\n",
      "2/2 [==============================] - 0s 7ms/step - loss: 0.0035 - accuracy: 1.0000\n",
      "Epoch 44/50\n",
      "2/2 [==============================] - 0s 7ms/step - loss: 0.0031 - accuracy: 1.0000\n",
      "Epoch 45/50\n",
      "2/2 [==============================] - 0s 6ms/step - loss: 0.0029 - accuracy: 1.0000\n",
      "Epoch 46/50\n",
      "2/2 [==============================] - 0s 7ms/step - loss: 0.0030 - accuracy: 1.0000\n",
      "Epoch 47/50\n",
      "2/2 [==============================] - 0s 5ms/step - loss: 0.0029 - accuracy: 1.0000\n",
      "Epoch 48/50\n",
      "2/2 [==============================] - 0s 5ms/step - loss: 0.0028 - accuracy: 1.0000\n",
      "Epoch 49/50\n",
      "2/2 [==============================] - 0s 6ms/step - loss: 0.0027 - accuracy: 1.0000\n",
      "Epoch 50/50\n",
      "2/2 [==============================] - 0s 8ms/step - loss: 0.0030 - accuracy: 1.0000\n",
      "1/1 [==============================] - 0s 138ms/step - loss: 1.9294 - accuracy: 0.8182\n",
      "test_loss: 1.9294304847717285 \n",
      "test_accuracy: 0.8181818127632141\n"
     ]
    }
   ],
   "source": [
    "# 모델 학습!! \n",
    "model.compile(optimizer=tf.keras.optimizers.Adam(learning_rate=0.001, \n",
    "                                                 beta_1=0.9, \n",
    "                                                 beta_2=0.999, \n",
    "                                                 epsilon=1e-07, \n",
    "                                                 amsgrad=False,),\n",
    "              loss='categorical_crossentropy',\n",
    "              metrics=['accuracy'])\n",
    "\n",
    "\n",
    "model.fit(x_train, one_hot_encode, epochs=50)    # 66 Epoch만 학습합니다.\n",
    "# 오류는 dense 의 아웃풋 형태를 조절할 것 여기에서는 17로 줌\n",
    "\n",
    "test_loss, test_accuracy = model.evaluate(x_test, one1, verbose=1)\n",
    "print(\"test_loss: {} \".format(test_loss))\n",
    "print(\"test_accuracy: {}\".format(test_accuracy))\n"
   ]
  },
  {
   "cell_type": "code",
   "execution_count": null,
   "id": "1cc9e218",
   "metadata": {
    "id": "787bb84b"
   },
   "outputs": [],
   "source": [
    "# # 모델 학습!! \n",
    "# model.compile(optimizer=tf.keras.optimizers.Adam(learning_rate=0.001, beta_1=0.9, beta_2=0.999),\n",
    "#               loss='binary_crossentropy',\n",
    "#               #sparse_categorical_crossentropy쓰면 안됨\n",
    "#               metrics = [\n",
    "#                 'accuracy',\n",
    "#                 tf.keras.metrics.Precision(name='precision'),\n",
    "#                 tf.keras.metrics.Recall(name='recall')\n",
    "#                 ])\n",
    "\n",
    "\n",
    "# model.fit(x_train, y_train, epochs=100)    # 66 Epoch만 학습합니다.\n",
    "# # 오류는 dense 의 아웃풋 형태를 조절할 것 여기에서는 17로 줌\n"
   ]
  },
  {
   "cell_type": "markdown",
   "id": "52c83806",
   "metadata": {
    "id": "c4178188"
   },
   "source": [
    "# 테스트 데이터로 정확도 뽑는 밑 코드 "
   ]
  },
  {
   "cell_type": "code",
   "execution_count": null,
   "id": "f7202272",
   "metadata": {
    "id": "7d02933e"
   },
   "outputs": [],
   "source": [
    "y_test = pd.DataFrame(y_test)"
   ]
  },
  {
   "cell_type": "code",
   "execution_count": null,
   "id": "5795fc55",
   "metadata": {
    "id": "83e67b04"
   },
   "outputs": [],
   "source": [
    "y_test = y_test.astype(int)"
   ]
  },
  {
   "cell_type": "code",
   "execution_count": null,
   "id": "1a93e701",
   "metadata": {
    "id": "e3add6ab",
    "outputId": "ad14ce9d-b15f-478d-9ac8-b5854ecd06c1"
   },
   "outputs": [
    {
     "name": "stdout",
     "output_type": "stream",
     "text": [
      "     level_0\n",
      "45         2\n",
      "46         2\n",
      "47         2\n",
      "48         2\n",
      "49         2\n",
      "..       ...\n",
      "115        2\n",
      "116        2\n",
      "117        2\n",
      "118        2\n",
      "119        2\n",
      "\n",
      "[75 rows x 1 columns]\n"
     ]
    }
   ],
   "source": [
    "y_test = y_test - 1\n",
    "print(y_test)"
   ]
  },
  {
   "cell_type": "code",
   "execution_count": null,
   "id": "ff81c0dc",
   "metadata": {
    "id": "b234c97d",
    "outputId": "ffcb2aef-050c-4ce7-f19e-f23b0b763104"
   },
   "outputs": [
    {
     "data": {
      "text/plain": [
       "array([[0., 0., 1.],\n",
       "       [0., 0., 1.],\n",
       "       [0., 0., 1.],\n",
       "       [0., 0., 1.],\n",
       "       [0., 0., 1.],\n",
       "       [0., 0., 1.],\n",
       "       [0., 0., 1.],\n",
       "       [0., 0., 1.],\n",
       "       [0., 0., 1.],\n",
       "       [0., 0., 1.],\n",
       "       [0., 0., 1.],\n",
       "       [0., 0., 1.],\n",
       "       [0., 0., 1.],\n",
       "       [0., 0., 1.],\n",
       "       [0., 0., 1.],\n",
       "       [0., 0., 1.],\n",
       "       [0., 0., 1.],\n",
       "       [0., 0., 1.],\n",
       "       [0., 0., 1.],\n",
       "       [0., 0., 1.],\n",
       "       [0., 0., 1.],\n",
       "       [0., 0., 1.],\n",
       "       [0., 0., 1.],\n",
       "       [0., 0., 1.],\n",
       "       [0., 0., 1.],\n",
       "       [0., 0., 1.],\n",
       "       [0., 0., 1.],\n",
       "       [0., 0., 1.],\n",
       "       [0., 0., 1.],\n",
       "       [0., 0., 1.],\n",
       "       [0., 0., 1.],\n",
       "       [0., 0., 1.],\n",
       "       [0., 0., 1.],\n",
       "       [0., 0., 1.],\n",
       "       [0., 0., 1.],\n",
       "       [0., 0., 1.],\n",
       "       [0., 0., 1.],\n",
       "       [0., 0., 1.],\n",
       "       [0., 0., 1.],\n",
       "       [0., 0., 1.],\n",
       "       [0., 0., 1.],\n",
       "       [0., 0., 1.],\n",
       "       [0., 0., 1.],\n",
       "       [0., 0., 1.],\n",
       "       [0., 0., 1.],\n",
       "       [0., 0., 1.],\n",
       "       [0., 0., 1.],\n",
       "       [0., 0., 1.],\n",
       "       [0., 0., 1.],\n",
       "       [0., 0., 1.],\n",
       "       [0., 0., 1.],\n",
       "       [0., 0., 1.],\n",
       "       [0., 0., 1.],\n",
       "       [0., 0., 1.],\n",
       "       [0., 0., 1.],\n",
       "       [0., 0., 1.],\n",
       "       [0., 0., 1.],\n",
       "       [0., 0., 1.],\n",
       "       [0., 0., 1.],\n",
       "       [0., 0., 1.],\n",
       "       [0., 0., 1.],\n",
       "       [0., 0., 1.],\n",
       "       [0., 0., 1.],\n",
       "       [0., 0., 1.],\n",
       "       [0., 0., 1.],\n",
       "       [0., 0., 1.],\n",
       "       [0., 0., 1.],\n",
       "       [0., 0., 1.],\n",
       "       [0., 0., 1.],\n",
       "       [0., 0., 1.],\n",
       "       [0., 0., 1.],\n",
       "       [0., 0., 1.],\n",
       "       [0., 0., 1.],\n",
       "       [0., 0., 1.],\n",
       "       [0., 0., 1.]], dtype=float32)"
      ]
     },
     "execution_count": 288,
     "metadata": {},
     "output_type": "execute_result"
    }
   ],
   "source": [
    "y_test"
   ]
  },
  {
   "cell_type": "code",
   "execution_count": null,
   "id": "86d155e7",
   "metadata": {
    "id": "d2c09c12",
    "outputId": "a0aa43a1-dee4-4f5d-d0f5-07a97ee6109f"
   },
   "outputs": [
    {
     "data": {
      "text/plain": [
       "array([64., 65., 65., ..., 60., 62., 66.])"
      ]
     },
     "execution_count": 265,
     "metadata": {},
     "output_type": "execute_result"
    }
   ],
   "source": [
    "x_test1"
   ]
  },
  {
   "cell_type": "code",
   "execution_count": null,
   "id": "1e29079d",
   "metadata": {
    "id": "cf0fabdf"
   },
   "outputs": [],
   "source": [
    "x_test1 = x_test1.to_numpy()"
   ]
  },
  {
   "cell_type": "code",
   "execution_count": null,
   "id": "cb914d9b",
   "metadata": {
    "id": "763e9121"
   },
   "outputs": [],
   "source": [
    "x_test1 = x_test1.flatten()\n",
    "x_test2 = x_test1[:1125]"
   ]
  },
  {
   "cell_type": "code",
   "execution_count": null,
   "id": "784254f3",
   "metadata": {
    "id": "dba17a47"
   },
   "outputs": [],
   "source": [
    "x_test2 = x_test2.reshape(75,5,1,3)"
   ]
  },
  {
   "cell_type": "code",
   "execution_count": null,
   "id": "4bbc6b35",
   "metadata": {
    "id": "a087d2f2"
   },
   "outputs": [],
   "source": [
    "x_test1 = x_test.drop('level_0', axis = 1)\n",
    "\n",
    "y_test = x_test.level_0"
   ]
  },
  {
   "cell_type": "code",
   "execution_count": null,
   "id": "c0062656",
   "metadata": {
    "id": "a18395d1"
   },
   "outputs": [],
   "source": [
    "y_test = y_test.astype('float')\n",
    "test_scores = model.evaluate(x_test2, y_test, verbose=3)"
   ]
  },
  {
   "cell_type": "code",
   "execution_count": null,
   "id": "116c49df",
   "metadata": {
    "id": "865b1a9a",
    "outputId": "da0eb52c-f9b1-4fc0-eb58-d1dcfd7b445d"
   },
   "outputs": [
    {
     "name": "stdout",
     "output_type": "stream",
     "text": [
      "test loss, test acc: [5.173856735229492, 0.03999999910593033]\n"
     ]
    }
   ],
   "source": [
    "print(\"test loss, test acc:\" , test_scores ) "
   ]
  },
  {
   "cell_type": "markdown",
   "id": "986d5760",
   "metadata": {
    "id": "056dd02a"
   },
   "source": [
    "# 테스트 결과값입니다 3.9퍼센트 예측(학습데이터에서 사람2명의 데이터가 대다수, 사람3의 데이터로 학습해보니 현저히 정확도가 낮게 나옴) 을 확인하였습니다 "
   ]
  },
  {
   "cell_type": "markdown",
   "id": "07ed9eae",
   "metadata": {
    "id": "d4b2fa9e"
   },
   "source": []
  },
  {
   "cell_type": "markdown",
   "id": "639e5436",
   "metadata": {
    "id": "77541a5c"
   },
   "source": [
    "# 위 코드 까지 완벽?하게 먼저 해내기(cnn 돌리기)\n"
   ]
  },
  {
   "cell_type": "code",
   "execution_count": null,
   "id": "a7391f87",
   "metadata": {
    "id": "4e1b370b"
   },
   "outputs": [],
   "source": [
    "from sklearn.metrics import accuracy_score\n",
    "from sklearn.ensemble import RandomForestClassifier\n",
    "from sklearn.datasets import make_multilabel_classification\n",
    "from sklearn.multioutput import MultiOutputClassifier\n",
    "# 데이터셋 로드하기\n",
    "# [[your code]\n",
    "data = rows\n",
    "data2 = rows2\n",
    "data9 = rows9\n",
    "# 훈련용 데이터셋 나누기\n",
    "# [[your code]\n",
    "X_train = rows[:14]\n",
    "X_test = rows[14:]\n",
    "\n",
    "y_train = data9[:14]\n",
    "y_test = data9[14:]\n",
    "\n",
    "print(\"y_train\")\n",
    "print(y_train)\n",
    "print('-'*90)\n",
    "print('-'*90)\n",
    "print(\"X_train\")\n",
    "print(X_train)\n",
    "# y_test2 = data2[:16]\n",
    "# y_test2 = y_test2.reshape(16,4)\n",
    "# 훈련하기\n",
    "# [[your code]\n",
    "print('-'*90)\n",
    "\n"
   ]
  },
  {
   "cell_type": "code",
   "execution_count": null,
   "id": "c438480d",
   "metadata": {
    "id": "298db3b6"
   },
   "outputs": [],
   "source": [
    "# from sklearn.linear_model import RidgeClassifierCV\n",
    "# clf = RidgeClassifierCV().fit(X_train, y_train)\n",
    "\n",
    "# roc_auc_score(rows4, rows5, average=None)"
   ]
  },
  {
   "cell_type": "code",
   "execution_count": null,
   "id": "a1cdc55b",
   "metadata": {
    "id": "3b3b813a"
   },
   "outputs": [],
   "source": [
    "from sklearn.metrics import accuracy_score\n",
    "from sklearn.ensemble import RandomForestClassifier\n",
    "from sklearn.datasets import make_multilabel_classification\n",
    "from sklearn.multioutput import MultiOutputClassifier\n",
    "from sklearn.svm import SVC\n",
    "from sklearn.svm import SVR\n",
    "\n",
    "\n",
    "# 데이터셋 로드하기\n",
    "# [[your code]\n",
    "data = rows\n",
    "data2 = rows2\n",
    "data9 = rows9\n",
    "# 훈련용 데이터셋 나누기\n",
    "# [[your code]\n",
    "X_train = rows[:14]\n",
    "X_test = rows[14:]\n",
    "\n",
    "y_train = data9[:14]\n",
    "y_test = data9[14:]\n",
    "\n",
    "z_train = data9[:14]\n",
    "\n",
    "print(\"y_train\")\n",
    "print(y_train)\n",
    "print('-'*90)\n",
    "print('-'*90)\n",
    "print(\"X_train\")\n",
    "print(X_train)\n",
    "# y_test2 = data2[:16]\n",
    "# y_test2 = y_test2.reshape(16,4)\n",
    "# 훈련하기\n",
    "# [[your code]\n",
    "print('-'*90)\n",
    "print('-'*90)\n",
    "\n",
    "from sklearn.ensemble import RandomForestClassifier\n",
    "from sklearn.neighbors import KNeighborsClassifier\n",
    "from sklearn.datasets import make_classification\n",
    "# X2, y2 = make_classification(n_samples=1000, n_features=4,\n",
    "#                              n_informative=2, n_redundant=0,\n",
    "#                              random_state=0, shuffle=False)\n",
    "# clf = RandomForestClassifier(max_depth=2, random_state=0)\n",
    "# clf.fit(X2, y2)\n",
    "# print(X2)\n",
    "# print('-/'*90)\n",
    "# print('-/'*90)\n",
    "xtt = np.array(X_train)\n",
    "xt = xtt.reshape(-1,)\n",
    "ytt = np.array(y_train) #numpy array 로 바꿈!!\n",
    "yt = ytt.reshape(-1,) # numpy array 차원 축소!!! 1차원으로 만들어주기\n",
    "ett = np.array(y_test)\n",
    "ettt = ett.reshape(-1,)\n",
    "zt = np.array(z_train)\n",
    "\n",
    "print(\"xt : X_train 에 해당\")\n",
    "print(xt)\n",
    "print('-'*90)\n",
    "print(\"yt: y_train 에 해당 \")\n",
    "print(yt)\n",
    "print('-'*90)\n",
    "print(\"ett : y_test 에 해당\")\n",
    "print(ettt)\n",
    "print('-'*90)"
   ]
  },
  {
   "cell_type": "markdown",
   "id": "20e2a61c",
   "metadata": {
    "id": "e19cf55b"
   },
   "source": [
    "\n",
    "#열이 16개인 데이터셋\n"
   ]
  },
  {
   "cell_type": "code",
   "execution_count": null,
   "id": "86a32b2a",
   "metadata": {
    "id": "da467daf"
   },
   "outputs": [],
   "source": [
    "from sklearn.metrics import accuracy_score\n",
    "from sklearn.ensemble import RandomForestClassifier\n",
    "from sklearn.datasets import make_multilabel_classification\n",
    "from sklearn.multioutput import MultiOutputClassifier\n",
    "from sklearn.svm import SVC\n",
    "from sklearn.svm import SVR\n",
    "\n",
    "\n",
    "# 데이터셋 로드하기\n",
    "# [[your code]\n",
    "data = rows\n",
    "data2 = rows2\n",
    "data9 = rows9\n",
    "# 훈련용 데이터셋 나누기\n",
    "# [[your code]\n",
    "X_train = rows[:14]\n",
    "X_test = rows[14:]\n",
    "\n",
    "y_train = data9[:14]\n",
    "y_test = data9[14:]\n",
    "\n",
    "z_train = data9[:14]\n",
    "\n",
    "print(\"y_train\")\n",
    "print(y_train)\n",
    "print('-'*90)\n",
    "print('-'*90)\n",
    "print(\"X_train\")\n",
    "print(X_train)\n",
    "# y_test2 = data2[:16]\n",
    "# y_test2 = y_test2.reshape(16,4)\n",
    "# 훈련하기\n",
    "# [[your code]\n",
    "print('-'*90)\n",
    "print('-'*90)\n",
    "\n",
    "from sklearn.ensemble import RandomForestClassifier\n",
    "from sklearn.neighbors import KNeighborsClassifier\n",
    "from sklearn.datasets import make_classification\n",
    "# X2, y2 = make_classification(n_samples=1000, n_features=4,\n",
    "#                              n_informative=2, n_redundant=0,\n",
    "#                              random_state=0, shuffle=False)\n",
    "# clf = RandomForestClassifier(max_depth=2, random_state=0)\n",
    "# clf.fit(X2, y2)\n",
    "# print(X2)\n",
    "# print('-/'*90)\n",
    "# print('-/'*90)\n",
    "xtt = np.array(X_train)\n",
    "xt = xtt.reshape(-1,)\n",
    "ytt = np.array(y_train) #numpy array 로 바꿈!!\n",
    "yt = ytt.reshape(-1,) # numpy array 차원 축소!!! 1차원으로 만들어주기\n",
    "ett = np.array(y_test)  \n",
    "ettt = ett.reshape(-1,)\n",
    "zt = np.array(z_train)\n",
    "\n",
    "print(\"xt : X_train 에 해당\")\n",
    "print(xt)\n",
    "print('-'*90)\n",
    "print(\"yt: y_train 에 해당 \")\n",
    "print(yt)\n",
    "print('-'*90)\n",
    "print(\"ett : y_test 에 해당\")\n",
    "print(ettt)\n",
    "print('-'*90)\n",
    "\n",
    "xt = np.expand_dims(xt, axis=0) # 차원 확대\n",
    "yt = np.expand_dims(yt, axis=0) # 차원 확대 \n",
    "xt0909 = np.expand_dims(xt, axis=0)\n",
    "np.expand_dims(yt, axis=0)\n",
    "print(\"xt0909\")\n",
    "print(xt0909)\n",
    "print(\"xt\")\n",
    "print(xt)\n",
    "print('-'*90)\n",
    "print(\"yt\")\n",
    "print(yt)\n",
    "print('-'*90)\n",
    "print('-*'*90)\n",
    "# clf = MultiOutputClassifier(KNeighborsClassifier()).fit(xt,yt) # 2차원 이상의 배열이 필요함...\n",
    "knn = KNeighborsClassifier(n_neighbors=88)#여기에서 n_neighbers =1 이 중요!!! 입력 데이터 형태를 보면 1로 해야함\n",
    "knn = MultiOutputClassifier(KNeighborsClassifier(n_neighbors=1)).fit(xt,yt) #2차원 필요\n",
    "print(\"knn 예측치\")\n",
    "knnmaster1 = knn.predict(xt[-2:]) #We select the training set with the [:-1] Python syntax,\n",
    "#which produces a new array that contains all but the last item from digits.data:\n",
    "print(\"knmaster1\")\n",
    "print(knnmaster1)\n",
    "print('-*'*90)\n",
    "\n",
    "\n",
    "print(\"정답률=\", knn.score(yt, xt)) ###########################\n",
    "\n",
    "\n",
    "print('-*'*90)\n",
    "model = RandomForestClassifier()\n",
    "model.fit(xt, yt)\n",
    "print('-'*90)\n",
    "# 예측하기\n",
    "# [[your code]\n",
    "y_pred1 = model.predict(xt)\n",
    "# 정답률 출력하기\n",
    "# [[your code]\n",
    "print(\"randomforest 예측치 : \" )\n",
    "print(y_pred1)\n",
    "\n",
    "print('-'*90)\n",
    "\n",
    "\n",
    "decision_tree = DecisionTreeClassifier(random_state=255,min_samples_split=5,max_depth=6)\n",
    "decision_tree.fit(xt, yt)\n",
    "y_pred2 = decision_tree.predict(xt)\n",
    "print(\"Decision Tree classifier 예측치\")\n",
    "print(y_pred2)\n",
    "print('-'*90)\n",
    "\n",
    "y_testt = np.transpose(y_test)\n",
    "print(y_test)\n",
    "print('-'*90)\n",
    "#y_test = np.expand_dims(y_test, axis=0)\n",
    "\n",
    "print('decision tree 테스트 : y_test')\n",
    "print(y_test)\n",
    "print('-'*90)\n",
    "print('decision tree 예측치 : y_pred1')\n",
    "print(y_pred1)\n",
    "print('-'*90)\n",
    "print('-'*90) \n",
    "#svm 은 y 가 1차원이어야 한다고 한다.\n",
    "yt2 = yt.reshape(-1,) # numpy array 차원 축소!!! 1차원으로 만들어주기\n",
    "xt2 = xt.reshape(-1,)\n",
    "xt3 = xt2.reshape(-1, 1)\n",
    "yt3 = yt2.reshape(-1, 1) #조진호(사람2) 데이터            \n",
    "ett2 = ett.reshape(-1,)\n",
    "ett3 = ett.reshape(-1, 1) #최주원(사람3) 데이터\n",
    "zt3 = zt.reshape(-1,)\n",
    "zt3 = zt.reshape(-1,1)\n",
    "\n",
    "print(\"zt3\")\n",
    "print(zt3)\n",
    "print('--'*60)\n",
    "print(\"xt2 : xt를 reshape 으로(-1,) 한 결과 \")\n",
    "print(xt2)\n",
    "print('--'*90)\n",
    "print(\"xt3 : xt2를 reshape 으로 (-1,1)한 결과 \")\n",
    "print(xt3)\n",
    "print('--'*90)\n",
    "from sklearn import svm\n",
    "\n",
    "print('-'*90)\n",
    "print('-'*90)\n",
    "\n",
    "\n",
    "ett4 =ett3.reshape(-1,)\n",
    "yt33 = yt3.reshape(-1,) #차원축소\n",
    "xt33 = xt3.reshape(-1,)\n",
    "\n",
    "print('--'*90)\n",
    "\n",
    "yt4 = yt3.reshape(-1,)\n",
    "ett3= ett3.reshape(-1,)\n",
    "\n",
    "print(ett4)\n",
    "yt5 = yt4[:96]\n",
    "\n",
    "accuracy = accuracy_score(ett4, yt5) #같은 shape 이어야 함. accuracy 랑 다른게 있다. \n"
   ]
  },
  {
   "cell_type": "code",
   "execution_count": null,
   "id": "99210522",
   "metadata": {
    "id": "9a8dc6c2"
   },
   "outputs": [],
   "source": []
  },
  {
   "cell_type": "code",
   "execution_count": null,
   "id": "3ac62f5e",
   "metadata": {
    "id": "7a5442ed"
   },
   "outputs": [],
   "source": [
    "\n",
    "\n",
    "print(\"정확도 계산중... \")\n",
    "print(\" 정확도는 다음과 같다 \")\n",
    "print(accuracy*100)\n",
    "# from sklearn.datasets import make_blobs\n",
    "# import matplotlib.pyplot as plt\n",
    "\n",
    "# X,y = make_multilabel_classification(n_classes= 3,random_state = 0)\n",
    "\n",
    "# clf.predict(X[-2:])\n",
    "yt999 = yt3.reshape(-1,1)\n",
    "ytridge2 = yt999.reshape(-1,)\n",
    "xt35 = xt3.reshape(-1,1)\n",
    "# knn = KNeighborsClassifier(n_neighbors=3)\n",
    "# classifier = MultiOutputClassifier(knn, n_jobs=-1)\n",
    "# classifier.fit(y_test,y_pred)\n",
    "# predictions = classifier.predict(y_train)\n",
    "# classifier.score(y_true,np.array(y_train))\n",
    "\n",
    "from sklearn.linear_model import RidgeClassifierCV\n",
    "clf = RidgeClassifierCV(cv = 5, normalize = True,).fit(xt35 , yt999) #1d array 필요 .ravel() 써서 평평하게 함 \n",
    "y_score = clf.decision_function(yt999) #2d array 필요 \n",
    "print(\"ridgeclassifier 스코어\")\n",
    "print(y_score)\n",
    "\n",
    "# from sklearn.datasets import make_multilabel_classification\n",
    "# from sklearn.multioutput import MultiOutputClassifier\n",
    "# from sklearn.linear_model import LogisticRegression\n",
    "# from sklearn.metrics import roc_auc_score\n",
    "\n",
    "# X, y = make_multilabel_classification(random_state=0)\n",
    "# inner_clf = LogisticRegression(solver=\"liblinear\", random_state=0)\n",
    "# clf = MultiOutputClassifier(inner_clf).fit(X, y)\n",
    "# y_score = np.transpose([y_pred[:, 1] for y_pred in clf.predict_proba(X)])\n",
    "# roc_auc_score(y, y_score, average=None)\n",
    "from sklearn.svm import LinearSVC\n",
    "from sklearn.pipeline import make_pipeline\n",
    "from sklearn.preprocessing import StandardScaler\n",
    "from sklearn.datasets import make_classification\n",
    "from sklearn.pipeline import Pipeline\n",
    "from sklearn.feature_selection import SelectFromModel\n",
    "from sklearn.ensemble import GradientBoostingClassifier\n",
    "from sklearn.datasets import make_circles\n",
    "from sklearn import datasets\n",
    "import scipy.stats as stats\n",
    "import seaborn as sns\n",
    "fig = plt.figure(figsize=(6, 6))\n",
    "\n",
    "\n",
    "# clf9 = Pipeline([\n",
    "#   ('feature_selection', SelectFromModel(LinearSVC(penalty=\"l1\"))),\n",
    "#   ('classification', RandomForestClassifier())\n",
    "# ])\n",
    "ett999 = ett3.reshape(-1,1)\n",
    "\n",
    "gbrt = GradientBoostingClassifier(learning_rate=0.1,n_estimators =650,max_leaf_nodes=None, random_state=0,max_depth=6)\n",
    "gbrt.fit(xt3, yt3)\n",
    "print(\"gbrt결정 함수의 결과 형태: {}\".format(gbrt.decision_function(yt999).shape))#2차원 요구--> ett3\n",
    "# plot the first few entries of the decision function\n",
    "print(\"gbrt결정 함수 결과:\\n{}\".format(gbrt.decision_function(yt999)[:6, :]))\n",
    "print('/*/'*90)\n",
    "print(\"gbrt가장 큰 결정 함수의 인덱스:\\n{}\".format(\n",
    "      np.argmax(gbrt.decision_function(yt999), axis=1)))\n",
    "print(\"gbrt예측:\\n{}\".format(gbrt.predict(yt999)))\n",
    "print(\"gbrt 스코어\")\n",
    "print(gbrt.score(xt3,yt3))\n",
    "\n",
    "# 가장 큰 결정 함수의 인덱스:\n",
    "# [1 0 2 1 1 0 1 2 1 1 2 0 0 0 0 1 2 1 1 2 0 2 0 2 2 2 2 2 0 0 0 0 1 0 0 2 1\n",
    "#  0]\n",
    "# 예측:\n",
    "# [1 0 2 1 1 0 1 2 1 1 2 0 0 0 0 1 2 1 1 2 0 2 0 2 2 2 2 2 0 0 0 0 1 0 0 2 1\n",
    "#  0]\n",
    "print('/*/'*90)\n",
    "# predict_proba 결과 중 앞부분 일부를 확인합니다\n",
    "print(\"예측 확률:\\n{}\".format(gbrt.predict_proba(yt999)[:9]))\n",
    "# 행 방향으로 확률을 더하면 1 이 됩니다\n",
    "print(\"합: {}\".format(gbrt.predict_proba(yt999)[:9].sum(axis=1)))\n",
    "# 예측 확률:\n",
    "# [[0.10664722 0.7840248  0.10932798]\n",
    "#  [0.78880668 0.10599243 0.10520089]\n",
    "#  [0.10231173 0.10822274 0.78946553]\n",
    "#  [0.10664722 0.7840248  0.10932798]\n",
    "#  [0.10825347 0.66344934 0.22829719]\n",
    "#  [0.78880668 0.10599243 0.10520089]]\n",
    "# 합: [1. 1. 1. 1. 1. 1.]\n",
    "print('/*/'*90)\n",
    "x8x8 = pd.DataFrame(gbrt.decision_function(ett999))\n",
    "\n",
    "x9x9 = x8x8.corr()\n",
    "\n",
    "e9e9 = sns.heatmap(x9x9, cmap = 'viridis')\n",
    "\n",
    "e0e0 = sns.scatterplot(xt33,yt33)\n",
    "plt.show()\n",
    "print('/*/'*90)\n",
    "print(e0e0)\n",
    "print('/*/'*90)\n",
    "\n",
    "x88x88 = pd.DataFrame(gbrt.decision_function(yt999))\n",
    "x99x99 = x88x88.corr()\n",
    "e99e99 = sns.heatmap(x99x99, cmap = 'viridis')\n",
    "# e0e0 = sns.scatterplot(xt33,yt33)\n",
    "plt.show()\n",
    "\n",
    "print(e99e99)\n",
    "\n",
    "\n",
    "\n",
    "\n",
    "\n",
    "xt39 = np.transpose(xt3)\n",
    "yt39 = np.transpose(yt3)\n",
    "ett39 = np.transpose(ett3)\n",
    "zt39 = np.transpose(zt3)\n",
    "print(\"zt39\")\n",
    "print(zt39.shape)\n",
    "print(zt39)\n",
    "print('/*/'*90)\n",
    "s = [0.7*np.linalg.norm([a, b]) for a, b in zip(xt3, yt3)]\n",
    "s = [a / max(s) for a in s]  # scale\n",
    "print(\"ett3.shape\")\n",
    "print(ett3.shape)\n",
    "print('/*/'*90)\n",
    "print(\"xt39.shape :xt39 = np.transpose(xt3)\")\n",
    "print(xt39.shape)\n",
    "print('/*/'*90)\n",
    "print(\"xt39\")\n",
    "print(xt39)\n"
   ]
  },
  {
   "cell_type": "code",
   "execution_count": null,
   "id": "7b09cf1a",
   "metadata": {
    "id": "ac1eba61"
   },
   "outputs": [],
   "source": [
    "\n",
    "ax= plt.scatter(xt39[:300], yt39[:300], c=s, s=30, cmap=plt.cm.Paired)\n",
    "clf = SVR(C=1.0, cache_size=200, coef0=0.0, degree=3, epsilon=0.2, gamma=0.2,\n",
    "  kernel='rbf', shrinking=True, tol=0.001)#파이프라인만들기\n",
    "\n",
    "clf.fit(xt3,yt3) #2차원으로 fit X(왼쪽 xt3)에는 포인트가 있고 Y에는 해당 포인트가 속한 클래스가 있습니다.\n",
    "\n",
    "# 초평면(Hyper-Plane) 표현\n",
    "ax = plt.gca()\n",
    "xlim = ax.get_xlim()\n",
    "ylim = ax.get_ylim()\n",
    "xx = np.linspace(xlim[0], xlim[1], 30)\n",
    "yy = np.linspace(ylim[0], ylim[1], 30)\n",
    "YY, XX = np.meshgrid(yy, xx)\n",
    "print(\"XX.shape :np.meshgrid(yy, xx)\")\n",
    "print(XX.shape)\n",
    "\n",
    "\n",
    "\n",
    "xy = np.vstack([XX.ravel(), YY.ravel()]).T\n",
    "print(\"xy.shape : np.vstack([XX.ravel(), YY.ravel()]).T \")\n",
    "print(xy.shape)\n",
    "xy = xy.reshape(-1,1)\n",
    "\n",
    "\n",
    "xy1 = xy[:30]\n",
    "xy1 = xy1.flatten()\n",
    "xy1 = xy1[:899]\n",
    "print(\"xy1\")\n",
    "print(xy1)\n",
    "xy1 = xy1.reshape(-1,1)#$$$\n",
    "xy2 = xy1[:30]#$$$\n",
    "xy3 = xy2.flatten()#$$$\n",
    "print(\"xy3\")\n",
    "print(xy3)\n",
    "xy3 = xy3[:30]\n",
    "xy99 = xy3.reshape(30,)#$$$\n",
    "print(\"xy3\")\n",
    "print(xy3)\n",
    "xy5= xy99.reshape(-1,1)#$$$\n",
    "# print(\"clfdecisionfuction\")\n",
    "# print(fig.add_subplot(112, clf.decision_function(xy5)))\n",
    "# Z = clf.decision_function(xy5).reshape(30,30)\n",
    "# Z = clf.decision_function(xy5).reshape(-1,)#1차원으로 만들기\n",
    "# print(Z)\n",
    "# Z = Z[:900] # 900개까지 나열\n",
    "# Z = Z.reshape(30,30) #30*30 행렬로 reshape\n",
    "# ax.contour(XX, YY, Z, colors='k', levels=[-1,0,1], alpha=0.9, linestyles=['--', '-', '--'])\n",
    "# # 지지벡터(Support Vector) 표현 \n",
    "# ax.scatter(clf.support_vectors_[:,1], clf.support_vectors_[:,1], s=60, facecolors='r')\n",
    "# plt.show()\n",
    "# fig = plt.figure(figsize=(12, 12))\n",
    "\n",
    "\n",
    "# ax2 = fig.add_subplot(111, projection='3d')\n",
    "# ax2.scatter(xt39[:100], yt39[:100], yt39[:100], c= s , marker='o', s=15, cmap='Greens')\n",
    "\n",
    "# print(yt3.shape)\n",
    "# yt4 = yt3.reshape(-1,)\n",
    "# print(yt4)\n",
    "# print(\"ett4\")\n",
    "# print(ett4)\n",
    "# yt5 = yt4[:96]\n",
    "# print(\"yt5\")\n",
    "# print(yt5)\n",
    "# accuracy = accuracy_score(ett4, yt5) #같은 shape 이어야 함. accuracy 랑 다른게 있다. \n",
    "\n",
    "\n",
    "# print(\"정확도 계산중... \")\n",
    "# print(\" 정확도는 다음과 같다 \")\n",
    "# print(accuracy*100)\n",
    "\n"
   ]
  },
  {
   "cell_type": "code",
   "execution_count": null,
   "id": "58d39b2d",
   "metadata": {
    "id": "f6ea73e1"
   },
   "outputs": [],
   "source": [
    "from sklearn import svm\n",
    "# from sklearn.datasets import make_blobs\n",
    "# import matplotlib.pyplot as plt\n",
    "\n",
    "# X,y = make_multilabel_classification(n_classes= 3,random_state = 0)\n",
    "\n",
    "# clf.predict(X[-2:])\n",
    "\n",
    "\n",
    "# knn = KNeighborsClassifier(n_neighbors=3)\n",
    "# classifier = MultiOutputClassifier(knn, n_jobs=-1)\n",
    "# classifier.fit(y_test,y_pred)\n",
    "# predictions = classifier.predict(y_train)\n",
    "# classifier.score(y_true,np.array(y_train))\n",
    "\n",
    "# from sklearn.linear_model import RidgeClassifierCV\n",
    "# clf = RidgeClassifierCV().fit(X_train, y_train)\n",
    "# y_score = clf.decision_function(X_train)\n",
    "# roc_auc_score(y_test, y_train, average=None)\n",
    "\n",
    "# from sklearn.datasets import make_multilabel_classification\n",
    "# from sklearn.multioutput import MultiOutputClassifier\n",
    "# from sklearn.linear_model import LogisticRegression\n",
    "# from sklearn.metrics import roc_auc_score\n",
    "\n",
    "# X, y = make_multilabel_classification(random_state=0)\n",
    "# inner_clf = LogisticRegression(solver=\"liblinear\", random_state=0)\n",
    "# clf = MultiOutputClassifier(inner_clf).fit(X, y)\n",
    "# y_score = np.transpose([y_pred[:, 1] for y_pred in clf.predict_proba(X)])\n",
    "# roc_auc_score(y, y_score, average=None)\n",
    "clf = svm.SVC(kernel=\"linear\", C=1000)\n",
    "x__train = xt3.reshape(-1,1)\n",
    "y__train = yt3.reshape(-1,1)\n",
    "\n",
    "clf.fit(x__train, y__train)\n",
    "print(xt3.shape)\n",
    "print(yt3.shape)\n",
    "s = [0.1*np.linalg.norm([a, b]) for a, b in zip(xt3, yt3)]\n",
    "s = [a / max(s) for a in s]  # scale\n",
    "\n",
    "plt.scatter(xt3[:224], xt3[:224], c=s, s=30, cmap=plt.cm.Paired)\n",
    "\n",
    "# decision function 표현 초평면(Hyper-Plane) 표현\n",
    "ax = plt.gca()\n",
    "xlim = ax.get_xlim()\n",
    "ylim = ax.get_ylim()\n",
    "# plot decision boundary and margins\n",
    "# Z = clf.decision_function(xy).reshape(XX.shape)\n",
    "\n",
    "ax.contour(XX, YY, colors=\"k\", levels=[-1, 0, 1], alpha=0.5, linestyles=[\"--\", \"-\", \"--\"])\n",
    "\n",
    "xx = np.linspace(xlim[0], xlim[1], 30)\n",
    "yy = np.linspace(ylim[0], ylim[1], 30)\n",
    "YY, XX = np.meshgrid(yy, xx)\n",
    "xy = np.vstack([XX.ravel(), YY.ravel()])\n",
    "\n",
    "\n",
    "\n",
    "# plot decision boundary and margins\n",
    "ax.contour(XX, YY, colors=\"k\", levels=[-1, 0, 1], alpha=0.5, linestyles=[\"--\", \"-\", \"--\"])\n",
    "\n",
    "# 지지벡터(Support Vector) 표현\n",
    "ax.scatter(\n",
    "    clf.support_vectors_[:, 0],\n",
    "    clf.support_vectors_[:, 1],\n",
    "    s=100,\n",
    "    linewidth=1,\n",
    "    facecolors=\"none\",\n",
    "    edgecolors=\"k\",\n",
    ")\n",
    "plt.show()"
   ]
  },
  {
   "cell_type": "code",
   "execution_count": null,
   "id": "28bd740a",
   "metadata": {
    "id": "d7a2233a"
   },
   "outputs": [],
   "source": []
  },
  {
   "cell_type": "code",
   "execution_count": null,
   "id": "736eea9c",
   "metadata": {
    "id": "30f2cb8e"
   },
   "outputs": [],
   "source": []
  },
  {
   "cell_type": "code",
   "execution_count": null,
   "id": "4dba1a47",
   "metadata": {
    "id": "2149485a"
   },
   "outputs": [],
   "source": []
  }
 ],
 "metadata": {
  "colab": {
   "name": "0323-1.ipynb",
   "provenance": []
  },
  "kernelspec": {
   "display_name": "Python 3 (ipykernel)",
   "language": "python",
   "name": "python3"
  },
  "language_info": {
   "codemirror_mode": {
    "name": "ipython",
    "version": 3
   },
   "file_extension": ".py",
   "mimetype": "text/x-python",
   "name": "python",
   "nbconvert_exporter": "python",
   "pygments_lexer": "ipython3",
   "version": "3.9.7"
  }
 },
 "nbformat": 4,
 "nbformat_minor": 5
}
